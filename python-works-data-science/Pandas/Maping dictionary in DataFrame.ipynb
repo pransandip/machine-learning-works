{
 "cells": [
  {
   "cell_type": "markdown",
   "id": "8e37dfcf",
   "metadata": {},
   "source": [
    "### Setting up the Data\n",
    "We have created a dataset by making a dictionary with features and passing it through the dataframe function."
   ]
  },
  {
   "cell_type": "code",
   "execution_count": 1,
   "id": "ed9278ec",
   "metadata": {},
   "outputs": [],
   "source": [
    "import pandas as pd"
   ]
  },
  {
   "cell_type": "code",
   "execution_count": 2,
   "id": "05c5e94f",
   "metadata": {},
   "outputs": [],
   "source": [
    "   raw_data = {\"first_name\": [\"Sheldon\", \"Raj\", \"Leonard\", \"Howard\", \"Amy\"],\n",
    "                \"last_name\": [\"Copper\", \"Koothrappali\", \"Hofstadter\", \"Wolowitz\", \"Fowler\"],\n",
    "                \"age\": [42, 38, 36, 41, 35],\n",
    "                \"Comedy_Score\": [9, 7, 8, 8, 5],\n",
    "                \"Rating_Score\": [25, 25, 49, 62, 70]}\n"
   ]
  },
  {
   "cell_type": "code",
   "execution_count": 16,
   "id": "d947a4ed",
   "metadata": {},
   "outputs": [],
   "source": [
    "df = pd.DataFrame(raw_data,columns = [\"first_name\", \"last_name\", \"age\",\n",
    "                                           \"Comedy_Score\", \"Rating_Score\"])"
   ]
  },
  {
   "cell_type": "code",
   "execution_count": 17,
   "id": "31f7ee9d",
   "metadata": {},
   "outputs": [
    {
     "data": {
      "text/html": [
       "<div>\n",
       "<style scoped>\n",
       "    .dataframe tbody tr th:only-of-type {\n",
       "        vertical-align: middle;\n",
       "    }\n",
       "\n",
       "    .dataframe tbody tr th {\n",
       "        vertical-align: top;\n",
       "    }\n",
       "\n",
       "    .dataframe thead th {\n",
       "        text-align: right;\n",
       "    }\n",
       "</style>\n",
       "<table border=\"1\" class=\"dataframe\">\n",
       "  <thead>\n",
       "    <tr style=\"text-align: right;\">\n",
       "      <th></th>\n",
       "      <th>first_name</th>\n",
       "      <th>last_name</th>\n",
       "      <th>age</th>\n",
       "      <th>Comedy_Score</th>\n",
       "      <th>Rating_Score</th>\n",
       "    </tr>\n",
       "  </thead>\n",
       "  <tbody>\n",
       "    <tr>\n",
       "      <th>0</th>\n",
       "      <td>Sheldon</td>\n",
       "      <td>Copper</td>\n",
       "      <td>42</td>\n",
       "      <td>9</td>\n",
       "      <td>25</td>\n",
       "    </tr>\n",
       "    <tr>\n",
       "      <th>1</th>\n",
       "      <td>Raj</td>\n",
       "      <td>Koothrappali</td>\n",
       "      <td>38</td>\n",
       "      <td>7</td>\n",
       "      <td>25</td>\n",
       "    </tr>\n",
       "    <tr>\n",
       "      <th>2</th>\n",
       "      <td>Leonard</td>\n",
       "      <td>Hofstadter</td>\n",
       "      <td>36</td>\n",
       "      <td>8</td>\n",
       "      <td>49</td>\n",
       "    </tr>\n",
       "    <tr>\n",
       "      <th>3</th>\n",
       "      <td>Howard</td>\n",
       "      <td>Wolowitz</td>\n",
       "      <td>41</td>\n",
       "      <td>8</td>\n",
       "      <td>62</td>\n",
       "    </tr>\n",
       "    <tr>\n",
       "      <th>4</th>\n",
       "      <td>Amy</td>\n",
       "      <td>Fowler</td>\n",
       "      <td>35</td>\n",
       "      <td>5</td>\n",
       "      <td>70</td>\n",
       "    </tr>\n",
       "  </tbody>\n",
       "</table>\n",
       "</div>"
      ],
      "text/plain": [
       "  first_name     last_name  age  Comedy_Score  Rating_Score\n",
       "0    Sheldon        Copper   42             9            25\n",
       "1        Raj  Koothrappali   38             7            25\n",
       "2    Leonard    Hofstadter   36             8            49\n",
       "3     Howard      Wolowitz   41             8            62\n",
       "4        Amy        Fowler   35             5            70"
      ]
     },
     "execution_count": 17,
     "metadata": {},
     "output_type": "execute_result"
    }
   ],
   "source": [
    "df"
   ]
  },
  {
   "cell_type": "markdown",
   "id": "52fb1537",
   "metadata": {},
   "source": [
    "### Maping the values\n",
    "First we have made a dictionary with the values mapped with another values such that first values is of feature first_name and the next is of new feature subjects."
   ]
  },
  {
   "cell_type": "code",
   "execution_count": 19,
   "id": "0a606983",
   "metadata": {},
   "outputs": [
    {
     "name": "stdout",
     "output_type": "stream",
     "text": [
      "{'Sheldon': 'Science', 'Raj': 'Chemistry', 'Leonard': 'Maths', 'Howard': 'Astronaut', 'Amy': 'Science'}\n"
     ]
    }
   ],
   "source": [
    "Subjects = {\"Sheldon\" : \"Science\",\n",
    "                     \"Raj\" : \"Chemistry\",\n",
    "                     \"Leonard\" : \"Maths\",\n",
    "                     \"Howard\" : \"Astronaut\",\n",
    "                     \"Amy\" : \"Science\"}\n",
    "print(Subjects)"
   ]
  },
  {
   "cell_type": "markdown",
   "id": "eb6457af",
   "metadata": {},
   "source": [
    "Now we have created a function to map the values of different columns."
   ]
  },
  {
   "cell_type": "code",
   "execution_count": 22,
   "id": "1630a112",
   "metadata": {},
   "outputs": [
    {
     "data": {
      "text/html": [
       "<div>\n",
       "<style scoped>\n",
       "    .dataframe tbody tr th:only-of-type {\n",
       "        vertical-align: middle;\n",
       "    }\n",
       "\n",
       "    .dataframe tbody tr th {\n",
       "        vertical-align: top;\n",
       "    }\n",
       "\n",
       "    .dataframe thead th {\n",
       "        text-align: right;\n",
       "    }\n",
       "</style>\n",
       "<table border=\"1\" class=\"dataframe\">\n",
       "  <thead>\n",
       "    <tr style=\"text-align: right;\">\n",
       "      <th></th>\n",
       "      <th>first_name</th>\n",
       "      <th>last_name</th>\n",
       "      <th>age</th>\n",
       "      <th>Comedy_Score</th>\n",
       "      <th>Rating_Score</th>\n",
       "      <th>Subjects</th>\n",
       "    </tr>\n",
       "  </thead>\n",
       "  <tbody>\n",
       "    <tr>\n",
       "      <th>0</th>\n",
       "      <td>Sheldon</td>\n",
       "      <td>Copper</td>\n",
       "      <td>42</td>\n",
       "      <td>9</td>\n",
       "      <td>25</td>\n",
       "      <td>Science</td>\n",
       "    </tr>\n",
       "    <tr>\n",
       "      <th>1</th>\n",
       "      <td>Raj</td>\n",
       "      <td>Koothrappali</td>\n",
       "      <td>38</td>\n",
       "      <td>7</td>\n",
       "      <td>25</td>\n",
       "      <td>Chemistry</td>\n",
       "    </tr>\n",
       "    <tr>\n",
       "      <th>2</th>\n",
       "      <td>Leonard</td>\n",
       "      <td>Hofstadter</td>\n",
       "      <td>36</td>\n",
       "      <td>8</td>\n",
       "      <td>49</td>\n",
       "      <td>Maths</td>\n",
       "    </tr>\n",
       "    <tr>\n",
       "      <th>3</th>\n",
       "      <td>Howard</td>\n",
       "      <td>Wolowitz</td>\n",
       "      <td>41</td>\n",
       "      <td>8</td>\n",
       "      <td>62</td>\n",
       "      <td>Astronaut</td>\n",
       "    </tr>\n",
       "    <tr>\n",
       "      <th>4</th>\n",
       "      <td>Amy</td>\n",
       "      <td>Fowler</td>\n",
       "      <td>35</td>\n",
       "      <td>5</td>\n",
       "      <td>70</td>\n",
       "      <td>Science</td>\n",
       "    </tr>\n",
       "  </tbody>\n",
       "</table>\n",
       "</div>"
      ],
      "text/plain": [
       "  first_name     last_name  age  Comedy_Score  Rating_Score   Subjects\n",
       "0    Sheldon        Copper   42             9            25    Science\n",
       "1        Raj  Koothrappali   38             7            25  Chemistry\n",
       "2    Leonard    Hofstadter   36             8            49      Maths\n",
       "3     Howard      Wolowitz   41             8            62  Astronaut\n",
       "4        Amy        Fowler   35             5            70    Science"
      ]
     },
     "execution_count": 22,
     "metadata": {},
     "output_type": "execute_result"
    }
   ],
   "source": [
    "df[\"Subjects\"] = df[\"first_name\"].map(Subjects)\n",
    "df"
   ]
  }
 ],
 "metadata": {
  "kernelspec": {
   "display_name": "Python 3",
   "language": "python",
   "name": "python3"
  },
  "language_info": {
   "codemirror_mode": {
    "name": "ipython",
    "version": 3
   },
   "file_extension": ".py",
   "mimetype": "text/x-python",
   "name": "python",
   "nbconvert_exporter": "python",
   "pygments_lexer": "ipython3",
   "version": "3.8.10"
  }
 },
 "nbformat": 4,
 "nbformat_minor": 5
}
