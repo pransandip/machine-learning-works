{
 "cells": [
  {
   "cell_type": "markdown",
   "id": "5d9a24bb-48c0-444a-a349-f47b11a96a6f",
   "metadata": {
    "tags": []
   },
   "source": [
    "# python Exception handling"
   ]
  },
  {
   "cell_type": "code",
   "execution_count": 1,
   "id": "c156b242-f50c-407d-b106-1e3267c99c71",
   "metadata": {
    "tags": []
   },
   "outputs": [
    {
     "name": "stdout",
     "output_type": "stream",
     "text": [
      "somthing happen wrong!\n"
     ]
    }
   ],
   "source": [
    "try:\n",
    "    #Code block where exception can occur\n",
    "    a=b\n",
    "except:\n",
    "    print('somthing happen wrong!')"
   ]
  },
  {
   "cell_type": "markdown",
   "id": "15d4fe6f-0c3b-4924-8a1a-a1d16cfdc118",
   "metadata": {
    "tags": []
   },
   "source": [
    "## To print the same error 'msg' we use Exception class"
   ]
  },
  {
   "cell_type": "code",
   "execution_count": 2,
   "id": "68d643ff-ebaf-4b0b-a84a-5250197c01ef",
   "metadata": {},
   "outputs": [
    {
     "name": "stdout",
     "output_type": "stream",
     "text": [
      "name 'b' is not defined\n"
     ]
    }
   ],
   "source": [
    "try:\n",
    "    #Code block where exception can occur\n",
    "    a=b\n",
    "except Exception as ex:\n",
    "    print(ex)"
   ]
  },
  {
   "cell_type": "markdown",
   "id": "cf578769-0ac0-407e-942c-da4f75deabaf",
   "metadata": {},
   "source": [
    "## Handling Exception with custom messeges\n",
    "Suppose if we know that our error is a 'NameError' so we can easily handle with a custom 'msg'. make sure that the base Class that is an 'Exception' always be in bottom of other exception Classes like 'NameError' Class is derived from 'Exception' class"
   ]
  },
  {
   "cell_type": "code",
   "execution_count": 3,
   "id": "42269e51-8cd4-49e9-b5c4-300c7c9b786d",
   "metadata": {},
   "outputs": [
    {
     "name": "stdout",
     "output_type": "stream",
     "text": [
      "The user have not defined the variable\n"
     ]
    }
   ],
   "source": [
    "try:\n",
    "    #Code block where exception can occur\n",
    "    a=b\n",
    "\n",
    "except NameError as ex1:\n",
    "    print('The user have not defined the variable')\n",
    "\n",
    "except Exception as ex:\n",
    "    print(ex)"
   ]
  },
  {
   "cell_type": "code",
   "execution_count": 4,
   "id": "e0d45665-77d3-4031-9778-dd697392af39",
   "metadata": {},
   "outputs": [
    {
     "ename": "TypeError",
     "evalue": "unsupported operand type(s) for +: 'int' and 'str'",
     "output_type": "error",
     "traceback": [
      "\u001b[1;31m---------------------------------------------------------------------------\u001b[0m",
      "\u001b[1;31mTypeError\u001b[0m                                 Traceback (most recent call last)",
      "\u001b[1;32m<ipython-input-4-760ab4c87279>\u001b[0m in \u001b[0;36m<module>\u001b[1;34m\u001b[0m\n\u001b[0;32m      2\u001b[0m \u001b[0ma\u001b[0m\u001b[1;33m=\u001b[0m\u001b[1;36m1\u001b[0m\u001b[1;33m\u001b[0m\u001b[1;33m\u001b[0m\u001b[0m\n\u001b[0;32m      3\u001b[0m \u001b[0mb\u001b[0m\u001b[1;33m=\u001b[0m\u001b[1;34m's'\u001b[0m\u001b[1;33m\u001b[0m\u001b[1;33m\u001b[0m\u001b[0m\n\u001b[1;32m----> 4\u001b[1;33m \u001b[0mc\u001b[0m\u001b[1;33m=\u001b[0m\u001b[0ma\u001b[0m\u001b[1;33m+\u001b[0m\u001b[0mb\u001b[0m\u001b[1;33m\u001b[0m\u001b[1;33m\u001b[0m\u001b[0m\n\u001b[0m",
      "\u001b[1;31mTypeError\u001b[0m: unsupported operand type(s) for +: 'int' and 'str'"
     ]
    }
   ],
   "source": [
    "#Now suppose in this case what will we do\n",
    "a=1\n",
    "b='s'\n",
    "c=a+b"
   ]
  },
  {
   "cell_type": "code",
   "execution_count": 5,
   "id": "753201d2-163f-4808-b090-0f0c34fd48b9",
   "metadata": {},
   "outputs": [
    {
     "name": "stdout",
     "output_type": "stream",
     "text": [
      "Try to make the datatype similar\n"
     ]
    }
   ],
   "source": [
    "#To handle this Exception 'its a TypeError right'\n",
    "try:\n",
    "    #Code block where exception can occur\n",
    "    a=1\n",
    "    b='s'\n",
    "    c=a+b\n",
    "\n",
    "except NameError:\n",
    "    print('The user have not defined the variable')\n",
    "\n",
    "except TypeError:\n",
    "    print('Try to make the datatype similar')\n",
    "\n",
    "except Exception as ex:\n",
    "    print(ex)"
   ]
  },
  {
   "cell_type": "markdown",
   "id": "e6812d03-c6ae-47d6-bf54-8d4fc2ab2ba9",
   "metadata": {},
   "source": [
    "## Now Let's see an example how handle inputs"
   ]
  },
  {
   "cell_type": "code",
   "execution_count": 6,
   "id": "9b89f642-d508-433d-b8c6-13f03d6d8c3c",
   "metadata": {},
   "outputs": [
    {
     "name": "stdin",
     "output_type": "stream",
     "text": [
      "Enter the number 1 : 5\n",
      "Enter the number 2 : 6\n"
     ]
    },
    {
     "name": "stdout",
     "output_type": "stream",
     "text": [
      "11 | 0.8333333333333334 | 30\n"
     ]
    }
   ],
   "source": [
    "try:\n",
    "    #Code block where exception can occur\n",
    "    a=int(input('Enter the number 1 :'))\n",
    "    b=int(input('Enter the number 2 :'))\n",
    "    c=a+b\n",
    "    d=a/b\n",
    "    e=a*b\n",
    "    print(c, '|', d, '|', e)\n",
    "\n",
    "except NameError:\n",
    "    print('The user have not defined the variable')\n",
    "\n",
    "except TypeError:\n",
    "    print('Try to make the datatype similar')\n",
    "\n",
    "except Exception as ex:\n",
    "    print(ex)"
   ]
  },
  {
   "cell_type": "markdown",
   "id": "66fbeb82-6837-46f0-9fd0-a28c42e77b25",
   "metadata": {},
   "source": [
    "## Now what if there is no Exception we use else block"
   ]
  },
  {
   "cell_type": "code",
   "execution_count": 7,
   "id": "3c142094-47e3-4586-a4e7-65f32b8737d8",
   "metadata": {},
   "outputs": [
    {
     "name": "stdin",
     "output_type": "stream",
     "text": [
      "Enter the number 1 : 12\n",
      "Enter the number 2 : 0\n"
     ]
    },
    {
     "name": "stdout",
     "output_type": "stream",
     "text": [
      "please provide number greater than 0\n"
     ]
    }
   ],
   "source": [
    "try:\n",
    "    #Code block where exception can occur\n",
    "    a=int(input('Enter the number 1 :'))\n",
    "    b=int(input('Enter the number 2 :'))\n",
    "    c=a+b\n",
    "    d=a/b\n",
    "    e=a*b\n",
    "    \n",
    "except NameError:\n",
    "    print('The user have not defined the variable')\n",
    "\n",
    "except TypeError:\n",
    "    print('Try to make the datatype similar')\n",
    "\n",
    "except ZeroDivisionError:\n",
    "    print('please provide number greater than 0')\n",
    "    \n",
    "except Exception as ex:\n",
    "    print(ex)\n",
    "else:\n",
    "    print(c, '|', d, '|', e)"
   ]
  },
  {
   "cell_type": "markdown",
   "id": "df207c82-3ae9-4428-a658-a4aa7ec1b405",
   "metadata": {},
   "source": [
    "## Try | else | finally\n",
    "If some Exception caught then else block will not execute it will skip, but finally block will always execute.\n",
    "When we use finally for example, suppose to close the database we write code in finally block."
   ]
  },
  {
   "cell_type": "code",
   "execution_count": 8,
   "id": "85c3e9ee-76f2-44d1-ba90-a84ab61e78b2",
   "metadata": {},
   "outputs": [
    {
     "name": "stdin",
     "output_type": "stream",
     "text": [
      "Enter the number 1 : 65\n",
      "Enter the number 2 : 6\n"
     ]
    },
    {
     "name": "stdout",
     "output_type": "stream",
     "text": [
      "10.833333333333334\n",
      "The execution is done\n"
     ]
    }
   ],
   "source": [
    "try:\n",
    "    #Code block where exception can occur\n",
    "    a=int(input('Enter the number 1 :'))\n",
    "    b=int(input('Enter the number 2 :'))\n",
    "    c=a/b\n",
    "    \n",
    "except NameError:\n",
    "    print('The user have not defined the variable')\n",
    "\n",
    "except TypeError:\n",
    "    print('Try to make the datatype similar')\n",
    "\n",
    "except ZeroDivisionError:\n",
    "    print('please provide number greater than 0')\n",
    "    \n",
    "except Exception as ex:\n",
    "    print(ex)\n",
    "\n",
    "else:\n",
    "    print(c)\n",
    "\n",
    "finally:\n",
    "    print('The execution is done')"
   ]
  },
  {
   "cell_type": "markdown",
   "id": "6caa92c9-1694-4173-bd55-83cf797002a8",
   "metadata": {},
   "source": [
    "# Custom Exception"
   ]
  },
  {
   "cell_type": "code",
   "execution_count": 9,
   "id": "536d058d-24ee-472b-9750-cc6c879224bb",
   "metadata": {},
   "outputs": [],
   "source": [
    "class Error(Exception):\n",
    "    pass\n",
    "\n",
    "class dobException(Error):\n",
    "    pass"
   ]
  },
  {
   "cell_type": "code",
   "execution_count": 31,
   "id": "080afed5-7edd-454b-a756-65cc3a3e56f0",
   "metadata": {},
   "outputs": [
    {
     "name": "stdin",
     "output_type": "stream",
     "text": [
      "Enter the year of birth: 1993\n"
     ]
    },
    {
     "name": "stdout",
     "output_type": "stream",
     "text": [
      "The Age is 28 and it is valid to give Exam\n"
     ]
    }
   ],
   "source": [
    "year=int(input('Enter the year of birth:'))\n",
    "age=2021-year\n",
    "try:\n",
    "    if age>20 & age<=30:\n",
    "        print(f'The Age is {age} and it is valid to give Exam')\n",
    "    else:\n",
    "        raise dobException\n",
    "        \n",
    "except dobException:\n",
    "    print('The year age is not valid')"
   ]
  }
 ],
 "metadata": {
  "kernelspec": {
   "display_name": "Python 3",
   "language": "python",
   "name": "python3"
  },
  "language_info": {
   "codemirror_mode": {
    "name": "ipython",
    "version": 3
   },
   "file_extension": ".py",
   "mimetype": "text/x-python",
   "name": "python",
   "nbconvert_exporter": "python",
   "pygments_lexer": "ipython3",
   "version": "3.7.10"
  }
 },
 "nbformat": 4,
 "nbformat_minor": 5
}
