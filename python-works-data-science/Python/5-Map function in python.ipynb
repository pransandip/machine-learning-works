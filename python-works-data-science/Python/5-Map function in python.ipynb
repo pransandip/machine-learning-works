{
 "cells": [
  {
   "cell_type": "markdown",
   "id": "4da60a7e",
   "metadata": {},
   "source": [
    "### Map function in python"
   ]
  },
  {
   "cell_type": "code",
   "execution_count": 9,
   "id": "ce88561e",
   "metadata": {},
   "outputs": [],
   "source": [
    "def num_is_eve_odd(num):\n",
    "    if num%2==0:\n",
    "        return \"The number {} is even\".format(num)\n",
    "    else:\n",
    "        return \"The number {} is odd\".format(num)"
   ]
  },
  {
   "cell_type": "code",
   "execution_count": 14,
   "id": "521ab517",
   "metadata": {},
   "outputs": [
    {
     "data": {
      "text/plain": [
       "'The number 20 is even'"
      ]
     },
     "execution_count": 14,
     "metadata": {},
     "output_type": "execute_result"
    }
   ],
   "source": [
    "num_is_eve_odd(20)"
   ]
  },
  {
   "cell_type": "code",
   "execution_count": 11,
   "id": "df825c9b",
   "metadata": {},
   "outputs": [],
   "source": [
    "lst = [1,2,5,6,8,10,14,55,66,87,38,29,44]"
   ]
  },
  {
   "cell_type": "code",
   "execution_count": 15,
   "id": "f7da7296",
   "metadata": {},
   "outputs": [
    {
     "name": "stdout",
     "output_type": "stream",
     "text": [
      "The number 1 is odd\n",
      "The number 2 is even\n",
      "The number 5 is odd\n",
      "The number 6 is even\n",
      "The number 8 is even\n",
      "The number 10 is even\n",
      "The number 14 is even\n",
      "The number 55 is odd\n",
      "The number 66 is even\n",
      "The number 87 is odd\n",
      "The number 38 is even\n",
      "The number 29 is odd\n",
      "The number 44 is even\n"
     ]
    }
   ],
   "source": [
    "## Treditionly we do this\n",
    "for i in lst:\n",
    "    print(num_is_eve_odd(i))"
   ]
  },
  {
   "cell_type": "code",
   "execution_count": 17,
   "id": "30a6afa6",
   "metadata": {},
   "outputs": [
    {
     "data": {
      "text/plain": [
       "['The number 1 is odd',\n",
       " 'The number 2 is even',\n",
       " 'The number 5 is odd',\n",
       " 'The number 6 is even',\n",
       " 'The number 8 is even',\n",
       " 'The number 10 is even',\n",
       " 'The number 14 is even',\n",
       " 'The number 55 is odd',\n",
       " 'The number 66 is even',\n",
       " 'The number 87 is odd',\n",
       " 'The number 38 is even',\n",
       " 'The number 29 is odd',\n",
       " 'The number 44 is even']"
      ]
     },
     "execution_count": 17,
     "metadata": {},
     "output_type": "execute_result"
    }
   ],
   "source": [
    "## But now with help of a map function we its become easy\n",
    "## map() func takes first element as function and second element as iterable\n",
    "## It works in lazy evaluation technique it create first memory instance then it passes this instance to act\n",
    "list(map(num_is_eve_odd,lst))"
   ]
  }
 ],
 "metadata": {
  "kernelspec": {
   "display_name": "Python 3",
   "language": "python",
   "name": "python3"
  },
  "language_info": {
   "codemirror_mode": {
    "name": "ipython",
    "version": 3
   },
   "file_extension": ".py",
   "mimetype": "text/x-python",
   "name": "python",
   "nbconvert_exporter": "python",
   "pygments_lexer": "ipython3",
   "version": "3.8.10"
  }
 },
 "nbformat": 4,
 "nbformat_minor": 5
}
