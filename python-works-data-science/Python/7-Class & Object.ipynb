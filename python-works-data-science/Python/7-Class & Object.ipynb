{
 "cells": [
  {
   "cell_type": "markdown",
   "id": "999a1e75-453a-40e4-88ff-0ad8f5abcac9",
   "metadata": {},
   "source": [
    "## Instance variable"
   ]
  },
  {
   "cell_type": "code",
   "execution_count": 2,
   "id": "bb4da205-64c7-44e1-8260-3dc2a654a676",
   "metadata": {},
   "outputs": [
    {
     "name": "stdout",
     "output_type": "stream",
     "text": [
      "init method / constructor get called\n",
      "init method / constructor get called\n",
      "Sandip\n"
     ]
    }
   ],
   "source": [
    "class Person:\n",
    "  def __init__(self, firstname, lastname, Age):\n",
    "    ## Instance variable\n",
    "    print('init method / constructor get called')\n",
    "    self.firstname = firstname\n",
    "    self.lastname = lastname\n",
    "    self.Age = Age\n",
    "\n",
    "p1 = Person('Sandip','Roy', 26)\n",
    "p2 = Person('shubham','Roy', 26)\n",
    "\n",
    "print(p1.firstname)\n",
    "## This output means first objects are initilized \n",
    "## Then coming to the print function"
   ]
  },
  {
   "cell_type": "markdown",
   "id": "34d23b3f-716c-40f6-8ecd-0a00f1d5c2de",
   "metadata": {},
   "source": [
    "## Instnce method"
   ]
  },
  {
   "cell_type": "code",
   "execution_count": 4,
   "id": "8c390a85-c21e-4c47-bcd3-8dc66db0dd9d",
   "metadata": {},
   "outputs": [
    {
     "name": "stdout",
     "output_type": "stream",
     "text": [
      "Lenevo Z50 45000\n",
      "40500.0\n"
     ]
    }
   ],
   "source": [
    "class Laptop:\n",
    "  def __init__(self, brand, model_name, price):\n",
    "    ## Instance variables\n",
    "    self.brand = brand\n",
    "    self.name = model_name\n",
    "    self.price = price\n",
    "    self.laptop_spec = brand + ' ' + model_name + ' ' + str(price)\n",
    "\n",
    "  def apply_discount(self,discount):\n",
    "    off_price = (discount/100)*self.price\n",
    "    return self.price - off_price\n",
    "\n",
    "\n",
    "laptop1 = Laptop('Lenevo', 'Z50', 45000)\n",
    "laptop2 = Laptop('DELL', 'Ax700', 50000)\n",
    "\n",
    "#print(laptop1.name, laptop1.brand)\n",
    "print(laptop1.laptop_spec)\n",
    "print(laptop1.apply_discount(10))"
   ]
  },
  {
   "cell_type": "code",
   "execution_count": 5,
   "id": "3eaf5ced-0d55-4ae2-bd3c-2c2e85016639",
   "metadata": {},
   "outputs": [
    {
     "name": "stdout",
     "output_type": "stream",
     "text": [
      "{'brand': 'Lenevo', 'name': 'Z50', 'price': 45000, 'laptop_spec': 'Lenevo Z50 45000'}\n"
     ]
    }
   ],
   "source": [
    "## Checking what is present inside laptop1 object it is giving dictionary\n",
    "print(laptop1.__dict__)"
   ]
  },
  {
   "cell_type": "code",
   "execution_count": 8,
   "id": "8d1ce2df-4fb8-464c-955a-a31616260d30",
   "metadata": {},
   "outputs": [
    {
     "name": "stdout",
     "output_type": "stream",
     "text": [
      "Sandip Roy\n",
      "Sandip Roy\n",
      "True\n"
     ]
    }
   ],
   "source": [
    "class Person:\n",
    "  def __init__(self, firstname, lastname, Age):\n",
    "    ## Instance variable\n",
    "    self.firstname = firstname\n",
    "    self.lastname = lastname\n",
    "    self.Age = Age\n",
    "\n",
    "  def fullname(self):\n",
    "    return f\"{self.firstname} {self.lastname}\"\n",
    "\n",
    "  def is_above_18(self):\n",
    "    return self.Age>18\n",
    "\n",
    "p1 = Person('Sandip','Roy', 26)\n",
    "\n",
    "print(Person.fullname(p1)) # This is how it is works internally\n",
    "print(p1.fullname())\n",
    "print(p1.is_above_18())"
   ]
  },
  {
   "cell_type": "markdown",
   "id": "72ed668c-011f-4b12-b1bf-94b466a15a29",
   "metadata": {},
   "source": [
    "## Let's check how objects works internally"
   ]
  },
  {
   "cell_type": "code",
   "execution_count": 9,
   "id": "bd3c8caf-109e-4ffc-916f-8d3d2a5614a6",
   "metadata": {},
   "outputs": [
    {
     "name": "stdout",
     "output_type": "stream",
     "text": [
      "[]\n"
     ]
    }
   ],
   "source": [
    "## Let's see a example\n",
    "l = [1,2,3,4,5]\n",
    "#l.clear()\n",
    "list.clear(l)\n",
    "\n",
    "print(l)"
   ]
  },
  {
   "cell_type": "code",
   "execution_count": 10,
   "id": "b2932f35-2b05-4f7b-9fbb-762f4cf88717",
   "metadata": {},
   "outputs": [
    {
     "data": {
      "text/plain": [
       "[10]"
      ]
     },
     "execution_count": 10,
     "metadata": {},
     "output_type": "execute_result"
    }
   ],
   "source": [
    "#l.append(10)\n",
    "list.append(l, 10)\n",
    "l"
   ]
  },
  {
   "cell_type": "markdown",
   "id": "d78afd90-8611-4032-92d2-afc92265791b",
   "metadata": {},
   "source": [
    "## Class Variable"
   ]
  },
  {
   "cell_type": "code",
   "execution_count": 11,
   "id": "9a2566b6-d88f-4352-b01d-4732ed99c437",
   "metadata": {},
   "outputs": [
    {
     "name": "stdout",
     "output_type": "stream",
     "text": [
      "62.800000000000004\n"
     ]
    }
   ],
   "source": [
    "class Circle:\n",
    "  pi = 3.14\n",
    "  def __init__(self, radius):\n",
    "    self.radius = radius\n",
    "  \n",
    "  def calc_circum(self):\n",
    "    return 2*Circle.pi*self.radius\n",
    "\n",
    "c1 = Circle(7)\n",
    "c1 = Circle(10)\n",
    "print(c1.calc_circum())"
   ]
  },
  {
   "cell_type": "code",
   "execution_count": 12,
   "id": "9b768c7e-7900-441e-b087-668257a9810f",
   "metadata": {},
   "outputs": [
    {
     "name": "stdout",
     "output_type": "stream",
     "text": [
      "3\n"
     ]
    }
   ],
   "source": [
    "## Count instance\n",
    "class Person:\n",
    "  count_instance = 0\n",
    "  def __init__(self, firstname, lastname, Age):\n",
    "    Person.count_instance += 1\n",
    "    ## Instance variable\n",
    "    self.firstname = firstname\n",
    "    self.lastname = lastname\n",
    "    self.Age = Age\n",
    "\n",
    "p1 = Person('Sandip','Roy', 26)\n",
    "p2 = Person('Sandip','Roy', 26)\n",
    "p3 = Person('Sandip','Roy', 26)\n",
    "\n",
    "print(Person.count_instance)"
   ]
  },
  {
   "cell_type": "markdown",
   "id": "3152ceb6-ac6d-42cf-8f9b-6594b91bce61",
   "metadata": {},
   "source": [
    "## Class method as constructor"
   ]
  },
  {
   "cell_type": "code",
   "execution_count": 14,
   "id": "e59af8b3-16c1-42c4-bbb1-51685a4da903",
   "metadata": {},
   "outputs": [
    {
     "name": "stdout",
     "output_type": "stream",
     "text": [
      "Sandip Roy\n",
      "Sandip Roy 26\n"
     ]
    }
   ],
   "source": [
    "class Person:\n",
    "  ## class variable\n",
    "  count_instance = 0\n",
    "  def __init__(self, firstname, lastname, Age):\n",
    "    Person.count_instance += 1\n",
    "    ## Instance variable\n",
    "    self.firstname = firstname\n",
    "    self.lastname = lastname\n",
    "    self.Age = Age\n",
    " \n",
    " ## Class method as constructor\n",
    "  @classmethod\n",
    "  def from_string(cls,string):\n",
    "    first,last,Age = string.split(',')\n",
    "    return cls(first,last,Age)\n",
    " \n",
    " ## Instance method\n",
    "  def fullname(self):\n",
    "    return f\"{self.firstname} {self.lastname}\"\n",
    "\n",
    "## Instance method\n",
    "  def details(self):\n",
    "    return f\"{self.firstname} {self.lastname} {self.Age}\"\n",
    "\n",
    "p1 = Person('Sandip','Roy', 26)\n",
    "p2 = Person('Shubham','Roy', 26)\n",
    "\n",
    "## creating class object in different way\n",
    "p3 = Person.from_string('Sandip,Roy,26')\n",
    "\n",
    "print(p3.fullname())\n",
    "print(p3.details())"
   ]
  }
 ],
 "metadata": {
  "kernelspec": {
   "display_name": "Python 3",
   "language": "python",
   "name": "python3"
  },
  "language_info": {
   "codemirror_mode": {
    "name": "ipython",
    "version": 3
   },
   "file_extension": ".py",
   "mimetype": "text/x-python",
   "name": "python",
   "nbconvert_exporter": "python",
   "pygments_lexer": "ipython3",
   "version": "3.8.10"
  },
  "toc-autonumbering": false,
  "toc-showcode": false,
  "toc-showmarkdowntxt": false,
  "toc-showtags": false
 },
 "nbformat": 4,
 "nbformat_minor": 5
}
