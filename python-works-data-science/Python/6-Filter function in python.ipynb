{
 "cells": [
  {
   "cell_type": "markdown",
   "id": "ce08c188",
   "metadata": {},
   "source": [
    "### Filter function in python"
   ]
  },
  {
   "cell_type": "code",
   "execution_count": 20,
   "id": "05446d51",
   "metadata": {},
   "outputs": [],
   "source": [
    "def odd_even(num):\n",
    "    if num%2==0:\n",
    "        return True"
   ]
  },
  {
   "cell_type": "code",
   "execution_count": 26,
   "id": "1baecf00",
   "metadata": {},
   "outputs": [],
   "source": [
    "lst=[1,2,5,8,10,22,9,28,11,75,38,6]"
   ]
  },
  {
   "cell_type": "code",
   "execution_count": 27,
   "id": "2564a459",
   "metadata": {},
   "outputs": [
    {
     "data": {
      "text/plain": [
       "[2, 8, 10, 22, 28, 38, 6]"
      ]
     },
     "execution_count": 27,
     "metadata": {},
     "output_type": "execute_result"
    }
   ],
   "source": [
    "## It is only giving those element that is true\n",
    "list(filter(odd_even,lst))"
   ]
  },
  {
   "cell_type": "code",
   "execution_count": 28,
   "id": "000d9227",
   "metadata": {},
   "outputs": [
    {
     "data": {
      "text/plain": [
       "[2, 8, 10, 22, 28, 38, 6]"
      ]
     },
     "execution_count": 28,
     "metadata": {},
     "output_type": "execute_result"
    }
   ],
   "source": [
    "## we can use lambda function too\n",
    "list(filter(lambda num:num%2==0,lst))"
   ]
  },
  {
   "cell_type": "code",
   "execution_count": 30,
   "id": "50f5ad7a",
   "metadata": {},
   "outputs": [
    {
     "data": {
      "text/plain": [
       "[False, True, False, True, True, True, False, True, False, False, True, True]"
      ]
     },
     "execution_count": 30,
     "metadata": {},
     "output_type": "execute_result"
    }
   ],
   "source": [
    "## if we use map function it will go through all the elements and print it\n",
    "list(map(lambda num:num%2==0,lst))"
   ]
  },
  {
   "cell_type": "code",
   "execution_count": 31,
   "id": "03e8a664",
   "metadata": {},
   "outputs": [
    {
     "data": {
      "text/plain": [
       "[None, True, None, True, True, True, None, True, None, None, True, True]"
      ]
     },
     "execution_count": 31,
     "metadata": {},
     "output_type": "execute_result"
    }
   ],
   "source": [
    "## Output difference : function is returning only True numbers\n",
    "list(map(odd_even,lst))"
   ]
  }
 ],
 "metadata": {
  "kernelspec": {
   "display_name": "Python 3",
   "language": "python",
   "name": "python3"
  },
  "language_info": {
   "codemirror_mode": {
    "name": "ipython",
    "version": 3
   },
   "file_extension": ".py",
   "mimetype": "text/x-python",
   "name": "python",
   "nbconvert_exporter": "python",
   "pygments_lexer": "ipython3",
   "version": "3.8.10"
  }
 },
 "nbformat": 4,
 "nbformat_minor": 5
}
