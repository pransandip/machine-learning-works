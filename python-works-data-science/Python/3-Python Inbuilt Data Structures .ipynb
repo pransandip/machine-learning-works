{
 "cells": [
  {
   "cell_type": "markdown",
   "metadata": {},
   "source": [
    "## Focus on inbuilt Data Structures\n",
    "#### *What is a Data Structure?* \n",
    "Organizing, managing and storing data is important as it enables easier access and efficient modifications. Data Structures allows you to organize your data in such a way that enables you to store collections of data, relate them and perform operations on them accordingly. \n",
    "\n",
    "#### *Types of Data Structures in Python:*\n",
    "Python has implicit support for Data Structures which enable you to store and access data. These structures are called List, Dictionary, Tuple and Set.\n",
    "Python allows its users to create their own Data Structures enabling them to have full control over their functionality. The most prominent Data Structures are Stack, Queue, Tree, Linked List, graph, HashMap.\n",
    "\n",
    "#### *Built-in Data Structures:*\n",
    "like List, Dictionary, Tuple and Set As the name suggests, these Data Structures are built-in with Python which makes programming easier and helps programmers use them to obtain solutions faster. Let’s discuss each of them in detail.\n",
    "\n",
    "* Python List and Boolean Variables inbuilt functions\n",
    "* Python tuples - Inbuilt functions\n",
    "* Python Dictionary - Inbuilt functions\n",
    "* Python Sets - Inbuilt functions\n",
    "* Comprehensions in python\n",
    "* Iterators and generators\n",
    "* Lambda Function"
   ]
  },
  {
   "cell_type": "markdown",
   "metadata": {},
   "source": [
    "## List\n",
    "Lists are used to store data of different data types in a sequential manner. There are addresses assigned to every element of the list, which is called as Index. The index value starts from 0 and goes on until the last element call +ve value"
   ]
  },
  {
   "cell_type": "code",
   "execution_count": 1,
   "metadata": {},
   "outputs": [
    {
     "data": {
      "text/plain": [
       "list"
      ]
     },
     "execution_count": 1,
     "metadata": {},
     "output_type": "execute_result"
    }
   ],
   "source": [
    "type([])"
   ]
  },
  {
   "cell_type": "code",
   "execution_count": 2,
   "metadata": {},
   "outputs": [],
   "source": [
    "lst = list()"
   ]
  },
  {
   "cell_type": "code",
   "execution_count": 3,
   "metadata": {},
   "outputs": [
    {
     "data": {
      "text/plain": [
       "list"
      ]
     },
     "execution_count": 3,
     "metadata": {},
     "output_type": "execute_result"
    }
   ],
   "source": [
    "type(lst)"
   ]
  },
  {
   "cell_type": "code",
   "execution_count": 4,
   "metadata": {},
   "outputs": [
    {
     "name": "stdout",
     "output_type": "stream",
     "text": [
      "[1, 2, 3, 4, 5, 6]\n"
     ]
    }
   ],
   "source": [
    "#List is a Ordered Collection of items\n",
    "#you can store anything in list int, float Strings\n",
    "#list \n",
    "numbers = [1,2,3,4,5,6]\n",
    "print(numbers)"
   ]
  },
  {
   "cell_type": "code",
   "execution_count": 5,
   "metadata": {},
   "outputs": [
    {
     "name": "stdout",
     "output_type": "stream",
     "text": [
      "['word1', 'word2', 'word3']\n"
     ]
    }
   ],
   "source": [
    "words = ['word1', 'word2', 'word3']\n",
    "print(words)"
   ]
  },
  {
   "cell_type": "code",
   "execution_count": 6,
   "metadata": {},
   "outputs": [
    {
     "name": "stdout",
     "output_type": "stream",
     "text": [
      "1\n",
      "[1, 'two', 3, 4, 'five', 'six', None]\n",
      "[1, 't', 'w', 'o']\n",
      "[1, 'three', 'four']\n"
     ]
    }
   ],
   "source": [
    "# We can mix them as well like int, float, string\n",
    "mixed = [1, 2, 3, 4, \"five\", \"six\", None]\n",
    "print(mixed[0])\n",
    "\n",
    "mixed[1] = \"two\"\n",
    "print(mixed)\n",
    "\n",
    "mixed[1:] = \"two\"\n",
    "print(mixed)\n",
    "\n",
    "mixed[1:] = [\"three\", \"four\"]\n",
    "print(mixed)"
   ]
  },
  {
   "cell_type": "code",
   "execution_count": 7,
   "metadata": {},
   "outputs": [],
   "source": [
    "lst=['Mathematics', 'chemistry', 100, 200, 300, 204]"
   ]
  },
  {
   "cell_type": "code",
   "execution_count": 8,
   "metadata": {},
   "outputs": [],
   "source": [
    "lst.append([\"love\",\"char\"])"
   ]
  },
  {
   "cell_type": "code",
   "execution_count": 9,
   "metadata": {},
   "outputs": [
    {
     "data": {
      "text/plain": [
       "['Mathematics', 'chemistry', 100, 200, 300, 204, ['love', 'char'], 'Sandy']"
      ]
     },
     "execution_count": 9,
     "metadata": {},
     "output_type": "execute_result"
    }
   ],
   "source": [
    "lst.append(\"Sandy\")\n",
    "lst"
   ]
  },
  {
   "cell_type": "code",
   "execution_count": 10,
   "metadata": {},
   "outputs": [],
   "source": [
    "lst=[1,2,3,4,5,6]"
   ]
  },
  {
   "cell_type": "code",
   "execution_count": 11,
   "metadata": {},
   "outputs": [
    {
     "data": {
      "text/plain": [
       "[1, 2, 3, 4, 5, 6, 8, 9]"
      ]
     },
     "execution_count": 11,
     "metadata": {},
     "output_type": "execute_result"
    }
   ],
   "source": [
    "lst.extend([8,9])\n",
    "lst"
   ]
  },
  {
   "cell_type": "code",
   "execution_count": 12,
   "metadata": {},
   "outputs": [],
   "source": [
    "#Various Operations that we can perform in List\n",
    "lst=[1,2,3,4,5]"
   ]
  },
  {
   "cell_type": "code",
   "execution_count": 13,
   "metadata": {},
   "outputs": [
    {
     "data": {
      "text/plain": [
       "15"
      ]
     },
     "execution_count": 13,
     "metadata": {},
     "output_type": "execute_result"
    }
   ],
   "source": [
    "sum(lst)"
   ]
  },
  {
   "cell_type": "code",
   "execution_count": 14,
   "metadata": {},
   "outputs": [
    {
     "data": {
      "text/plain": [
       "[1, 2, 3, 4, 5, 1, 2, 3, 4, 5, 1, 2, 3, 4, 5, 1, 2, 3, 4, 5, 1, 2, 3, 4, 5]"
      ]
     },
     "execution_count": 14,
     "metadata": {},
     "output_type": "execute_result"
    }
   ],
   "source": [
    "lst*5"
   ]
  },
  {
   "cell_type": "code",
   "execution_count": 15,
   "metadata": {},
   "outputs": [
    {
     "name": "stdout",
     "output_type": "stream",
     "text": [
      "['mangos', 'grapes', 'oranges']\n",
      "['peach', 'avogardo', 'lemon', 'apple']\n",
      "['peach', 'avogardo', 'lemon', 'apple', 'kiwi']\n"
     ]
    }
   ],
   "source": [
    "#insert, extend, append method\n",
    "fruits = ['mangos', 'oranges']\n",
    "fruits.insert(1, 'grapes')\n",
    "print(fruits)\n",
    "\n",
    "fruits1 = ['peach', 'avogardo']\n",
    "fruits2 = ['lemon', 'apple']\n",
    "fruits1.extend(fruits2)\n",
    "print(fruits1)\n",
    "\n",
    "fruits1.append('kiwi')\n",
    "print(fruits1)"
   ]
  },
  {
   "cell_type": "code",
   "execution_count": 16,
   "metadata": {},
   "outputs": [
    {
     "name": "stdout",
     "output_type": "stream",
     "text": [
      "pop item is: oranges\n",
      "['peach', 'avogardo', 'lemon', 'apple', 'mangos', 'grapes']\n"
     ]
    }
   ],
   "source": [
    "fruits = ['peach', 'avogardo', 'lemon', 'apple', 'mangos', 'grapes', 'oranges']\n",
    "pop1 = fruits.pop()\n",
    "print(f'pop item is: {pop1}')\n",
    "print(fruits)"
   ]
  },
  {
   "cell_type": "code",
   "execution_count": 17,
   "metadata": {},
   "outputs": [
    {
     "name": "stdout",
     "output_type": "stream",
     "text": [
      "['peach', 'lemon', 'apple', 'grapes', 'oranges']\n"
     ]
    }
   ],
   "source": [
    "fruits = ['peach', 'avogardo', 'lemon', 'apple', 'mangos', 'grapes', 'oranges']\n",
    "del fruits[1]\n",
    "fruits.remove('mangos')\n",
    "print(fruits)"
   ]
  },
  {
   "cell_type": "code",
   "execution_count": 18,
   "metadata": {},
   "outputs": [
    {
     "name": "stdout",
     "output_type": "stream",
     "text": [
      "oranges\n",
      "['peach', 'avogardo', 'lemon', 'apple', 'mangos', 'grapes']\n"
     ]
    }
   ],
   "source": [
    "fruits = ['peach', 'avogardo', 'lemon', 'apple', 'mangos', 'grapes', 'oranges']\n",
    "print(fruits.pop())\n",
    "print(fruits)"
   ]
  },
  {
   "cell_type": "code",
   "execution_count": 19,
   "metadata": {},
   "outputs": [
    {
     "data": {
      "text/plain": [
       "2"
      ]
     },
     "execution_count": 19,
     "metadata": {},
     "output_type": "execute_result"
    }
   ],
   "source": [
    "fruits = ['peach', 'avogardo', 'lemon', 'apple', 'mangos', 'apple', 'grapes', 'oranges']\n",
    "fruits.count('apple')"
   ]
  },
  {
   "cell_type": "code",
   "execution_count": 20,
   "metadata": {},
   "outputs": [
    {
     "name": "stdout",
     "output_type": "stream",
     "text": [
      "['apple', 'apple', 'avogardo', 'grapes', 'lemon', 'mangos', 'oranges', 'peach']\n",
      "['apple', 'apple', 'avogardo', 'grapes', 'lemon', 'mangos', 'oranges', 'peach']\n"
     ]
    }
   ],
   "source": [
    "fruits = ['peach', 'avogardo', 'lemon', 'apple', 'mangos', 'apple', 'grapes', 'oranges']\n",
    "fruits.sort()\n",
    "print(fruits)\n",
    "print(sorted(fruits))"
   ]
  },
  {
   "cell_type": "code",
   "execution_count": 21,
   "metadata": {},
   "outputs": [
    {
     "name": "stdout",
     "output_type": "stream",
     "text": [
      "[]\n"
     ]
    }
   ],
   "source": [
    "fruits = ['peach', 'avogardo', 'lemon', 'apple', 'mangos', 'apple', 'grapes', 'oranges']\n",
    "fruits.clear()\n",
    "print(fruits)"
   ]
  },
  {
   "cell_type": "code",
   "execution_count": 22,
   "metadata": {},
   "outputs": [
    {
     "name": "stdout",
     "output_type": "stream",
     "text": [
      "['peach', 'avogardo', 'lemon', 'apple', 'mangos', 'apple', 'grapes', 'oranges']\n",
      "[]\n",
      "['peach', 'avogardo', 'lemon', 'apple', 'mangos', 'apple', 'grapes', 'oranges']\n"
     ]
    }
   ],
   "source": [
    "fruits = ['peach', 'avogardo', 'lemon', 'apple', 'mangos', 'apple', 'grapes', 'oranges']\n",
    "fruits_copy = fruits.copy()\n",
    "fruits.clear()\n",
    "print(fruits_copy)\n",
    "print(fruits)\n",
    "print(fruits_copy)"
   ]
  },
  {
   "cell_type": "code",
   "execution_count": 23,
   "metadata": {},
   "outputs": [
    {
     "name": "stdout",
     "output_type": "stream",
     "text": [
      "sandy,26\n"
     ]
    }
   ],
   "source": [
    "#join method\n",
    "#convert list to string\n",
    "user_info = ['sandy', '26']\n",
    "print(','.join(user_info))"
   ]
  },
  {
   "cell_type": "code",
   "execution_count": 24,
   "metadata": {},
   "outputs": [
    {
     "name": "stdout",
     "output_type": "stream",
     "text": [
      "[1, 2, 3, 4, 5, 6, 7, 8, 9, 10]\n"
     ]
    }
   ],
   "source": [
    "#generate lists with range functions\n",
    "numbers = list(range(1,11))\n",
    "print(numbers)"
   ]
  },
  {
   "cell_type": "code",
   "execution_count": 25,
   "metadata": {},
   "outputs": [
    {
     "name": "stdout",
     "output_type": "stream",
     "text": [
      "[-1, -2, -3, -4, -5, -6, -7, -8, -9, -10]\n"
     ]
    }
   ],
   "source": [
    "#print negative list\n",
    "#passing the total list\n",
    "numbers = [1, 2, 3, 4, 5, 6, 7, 8, 9, 10]\n",
    "\n",
    "def negative_list(l):\n",
    "    negative = []\n",
    "    for i in l:\n",
    "        negative.append(-i)\n",
    "    return negative\n",
    "\n",
    "print(negative_list(numbers))"
   ]
  },
  {
   "cell_type": "code",
   "execution_count": 26,
   "metadata": {},
   "outputs": [
    {
     "name": "stdout",
     "output_type": "stream",
     "text": [
      "[1, 4, 9, 16, 25, 36, 49, 64, 81, 100]\n"
     ]
    }
   ],
   "source": [
    "# passing list with a range function\n",
    "def square_list(l):\n",
    "    square = []\n",
    "    for i in l:\n",
    "        square.append(i**2)\n",
    "    return square\n",
    "\n",
    "numbers = list(range(1,11))\n",
    "print(square_list(numbers))"
   ]
  },
  {
   "cell_type": "code",
   "execution_count": 27,
   "metadata": {},
   "outputs": [
    {
     "name": "stdout",
     "output_type": "stream",
     "text": [
      "[1, 2, 3]\n"
     ]
    }
   ],
   "source": [
    "#input ---> [1,2,5,8], [1,2,7,6]\n",
    "#output ---> [1,2]\n",
    "\n",
    "#logic\n",
    "#common number finder\n",
    "\n",
    "def common_finder(l1, l2):\n",
    "    output = []\n",
    "    for i in l1:\n",
    "        if i in l2:\n",
    "            output.append(i)\n",
    "    return output\n",
    "\n",
    "print(common_finder([1,2,3,5,8], [1,2,3,7,6]))"
   ]
  },
  {
   "cell_type": "code",
   "execution_count": 28,
   "metadata": {},
   "outputs": [
    {
     "name": "stdout",
     "output_type": "stream",
     "text": [
      "(5, 6)\n",
      "5\n",
      "6\n"
     ]
    }
   ],
   "source": [
    "#function returning two values\n",
    "def func(int1, int2):\n",
    "    add = int1+int2\n",
    "    mul = int1*int2\n",
    "    return add, mul\n",
    "\n",
    "print(func(2,3))\n",
    "add, multy = func(2,3)\n",
    "print(add)\n",
    "print(multy)"
   ]
  },
  {
   "cell_type": "code",
   "execution_count": 29,
   "metadata": {},
   "outputs": [
    {
     "name": "stdout",
     "output_type": "stream",
     "text": [
      "1\n",
      "2\n",
      "3\n",
      "4\n",
      "5\n",
      "6\n",
      "7\n",
      "8\n",
      "9\n",
      "[1, 2, 3] [4, 5, 6] [7, 8, 9] "
     ]
    }
   ],
   "source": [
    "#List inside List \n",
    "matrix = [[1,2,3], [4,5,6], [7,8,9]]\n",
    "# if we want to print the each items of list\n",
    "for sublist in matrix:\n",
    "    for i in sublist:\n",
    "        print(i)\n",
    "\n",
    "for sublist in matrix:\n",
    "    print(sublist, end=\" \")"
   ]
  },
  {
   "cell_type": "code",
   "execution_count": 30,
   "metadata": {},
   "outputs": [
    {
     "data": {
      "text/plain": [
       "4"
      ]
     },
     "execution_count": 30,
     "metadata": {},
     "output_type": "execute_result"
    }
   ],
   "source": [
    "#2d list\n",
    "matrix = [[1,2,3], [4,5,6], [7,8,9]]\n",
    "matrix[1][0]"
   ]
  },
  {
   "cell_type": "code",
   "execution_count": 31,
   "metadata": {},
   "outputs": [
    {
     "name": "stdout",
     "output_type": "stream",
     "text": [
      "[1, -2, 3, -4, 5, -6, 7, -8, 9, -10]\n"
     ]
    }
   ],
   "source": [
    "nums = [1,2,3,4,5,6,7,8,9,10]\n",
    "new_list = []\n",
    "for i in nums:\n",
    "    if i % 2 == 0:\n",
    "        new_list.append(-i)\n",
    "    else:\n",
    "        new_list.append(i)\n",
    "print(new_list)  "
   ]
  },
  {
   "cell_type": "code",
   "execution_count": 32,
   "metadata": {},
   "outputs": [
    {
     "name": "stdout",
     "output_type": "stream",
     "text": [
      "1\n",
      "9\n"
     ]
    }
   ],
   "source": [
    "numbers = [1,2,3,5,8,7,9]\n",
    "print(min(numbers))\n",
    "print(max(numbers))"
   ]
  },
  {
   "cell_type": "code",
   "execution_count": 33,
   "metadata": {},
   "outputs": [
    {
     "name": "stdout",
     "output_type": "stream",
     "text": [
      "['Geeks', 'for', 'Geeks']\n"
     ]
    }
   ],
   "source": [
    "# Convert String to list\n",
    "name = \"Geeks for Geeks\"\n",
    "l = list(name.split(\" \"))\n",
    "print(l)"
   ]
  },
  {
   "cell_type": "code",
   "execution_count": 34,
   "metadata": {},
   "outputs": [
    {
     "name": "stdout",
     "output_type": "stream",
     "text": [
      "['S', 'A', 'N', 'D', 'I', 'P']\n"
     ]
    }
   ],
   "source": [
    "# Convert string to char list\n",
    "name = \"SANDIP\"\n",
    "list1=[] \n",
    "list1[:0]=name\n",
    "print(list1)"
   ]
  },
  {
   "cell_type": "markdown",
   "metadata": {},
   "source": [
    "## Boolean Variables\n",
    "Boolean values are the two constant objects False and True.\n",
    "\n",
    "They are used to represent truth values (other values can also be considered false or true).\n",
    "\n",
    "In numeric contexts (for example, when used as the argument to an arithmetic operator), they behave like the integers 0 and 1, respectively.\n",
    "\n",
    "The built-in function bool() can be used to cast any value to a Boolean, if the value can be interpreted as a truth value\n",
    "\n",
    "They are written as False and True, respectively."
   ]
  },
  {
   "cell_type": "code",
   "execution_count": 35,
   "metadata": {},
   "outputs": [
    {
     "data": {
      "text/plain": [
       "False"
      ]
     },
     "execution_count": 35,
     "metadata": {},
     "output_type": "execute_result"
    }
   ],
   "source": [
    "bool()"
   ]
  },
  {
   "cell_type": "code",
   "execution_count": 36,
   "metadata": {},
   "outputs": [
    {
     "data": {
      "text/plain": [
       "bool"
      ]
     },
     "execution_count": 36,
     "metadata": {},
     "output_type": "execute_result"
    }
   ],
   "source": [
    "type(True)"
   ]
  },
  {
   "cell_type": "code",
   "execution_count": 37,
   "metadata": {},
   "outputs": [],
   "source": [
    "my_str = \"Sandip Roy\""
   ]
  },
  {
   "cell_type": "code",
   "execution_count": 38,
   "metadata": {},
   "outputs": [
    {
     "data": {
      "text/plain": [
       "False"
      ]
     },
     "execution_count": 38,
     "metadata": {},
     "output_type": "execute_result"
    }
   ],
   "source": [
    "my_str.isalnum()"
   ]
  },
  {
   "cell_type": "code",
   "execution_count": 39,
   "metadata": {},
   "outputs": [
    {
     "name": "stdout",
     "output_type": "stream",
     "text": [
      "False\n",
      "False\n",
      "False\n",
      "True\n",
      "False\n",
      "False\n",
      "False\n",
      "False\n",
      "True\n"
     ]
    }
   ],
   "source": [
    "print(my_str.isalnum()) #check if all char are numbers\n",
    "print(my_str.isalpha()) #check if all char in the string are alphabetic\n",
    "print(my_str.isdigit()) #test if string contains digits\n",
    "print(my_str.istitle()) #test if string contains title words\n",
    "print(my_str.isupper()) #test if string contains upper case\n",
    "print(my_str.islower()) #test if string contains lower case\n",
    "print(my_str.isspace()) #test if string contains spaces\n",
    "print(my_str.endswith('S')) #test if string endswith a d\n",
    "print(my_str.startswith('S')) #test if string startswith H"
   ]
  },
  {
   "cell_type": "code",
   "execution_count": 40,
   "metadata": {},
   "outputs": [
    {
     "data": {
      "text/plain": [
       "True"
      ]
     },
     "execution_count": 40,
     "metadata": {},
     "output_type": "execute_result"
    }
   ],
   "source": [
    "# Boolean and Logical Operators\n",
    "True and True"
   ]
  },
  {
   "cell_type": "code",
   "execution_count": 41,
   "metadata": {},
   "outputs": [
    {
     "data": {
      "text/plain": [
       "False"
      ]
     },
     "execution_count": 41,
     "metadata": {},
     "output_type": "execute_result"
    }
   ],
   "source": [
    "True and False"
   ]
  },
  {
   "cell_type": "code",
   "execution_count": 42,
   "metadata": {},
   "outputs": [
    {
     "data": {
      "text/plain": [
       "True"
      ]
     },
     "execution_count": 42,
     "metadata": {},
     "output_type": "execute_result"
    }
   ],
   "source": [
    "True or False"
   ]
  },
  {
   "cell_type": "code",
   "execution_count": 43,
   "metadata": {},
   "outputs": [
    {
     "data": {
      "text/plain": [
       "True"
      ]
     },
     "execution_count": 43,
     "metadata": {},
     "output_type": "execute_result"
    }
   ],
   "source": [
    "True or True"
   ]
  },
  {
   "cell_type": "markdown",
   "metadata": {},
   "source": [
    "## Tuples\n",
    "Tuple. Tuples are used to store multiple items in a single variable. Tuple is one of 4 built-in data structure in Python used to store collections of data, the other 3 are List, Set, and Dictionary, all with different qualities and usage. A tuple is a collection which is ordered and unchangeable that means immutable."
   ]
  },
  {
   "cell_type": "code",
   "execution_count": 44,
   "metadata": {},
   "outputs": [
    {
     "data": {
      "text/plain": [
       "tuple"
      ]
     },
     "execution_count": 44,
     "metadata": {},
     "output_type": "execute_result"
    }
   ],
   "source": [
    "## create an empty Tuples\n",
    "my_tuple=tuple()\n",
    "type(my_tuple)"
   ]
  },
  {
   "cell_type": "code",
   "execution_count": 45,
   "metadata": {},
   "outputs": [
    {
     "data": {
      "text/plain": [
       "tuple"
      ]
     },
     "execution_count": 45,
     "metadata": {},
     "output_type": "execute_result"
    }
   ],
   "source": [
    "my_tuple=()\n",
    "type(my_tuple)"
   ]
  },
  {
   "cell_type": "code",
   "execution_count": 46,
   "metadata": {},
   "outputs": [
    {
     "name": "stdout",
     "output_type": "stream",
     "text": [
      "<class 'tuple'>\n"
     ]
    },
    {
     "data": {
      "text/plain": [
       "('Hello', 'World')"
      ]
     },
     "execution_count": 46,
     "metadata": {},
     "output_type": "execute_result"
    }
   ],
   "source": [
    "my_tuple=('Hello','World')\n",
    "print(type(my_tuple))\n",
    "my_tuple"
   ]
  },
  {
   "cell_type": "code",
   "execution_count": 47,
   "metadata": {},
   "outputs": [
    {
     "name": "stdout",
     "output_type": "stream",
     "text": [
      "(1, 2, 3, 4, 5, 6, 7, 8, 9, 10)\n"
     ]
    }
   ],
   "source": [
    "nums = tuple(range(1,11))\n",
    "print(nums)"
   ]
  },
  {
   "cell_type": "code",
   "execution_count": 48,
   "metadata": {},
   "outputs": [
    {
     "name": "stdout",
     "output_type": "stream",
     "text": [
      "[1, 2, 3, 4, 5, 6, 7, 8, 9, 10]\n"
     ]
    }
   ],
   "source": [
    "nums = list((1, 2, 3, 4, 5, 6, 7, 8, 9, 10))\n",
    "print(nums)"
   ]
  },
  {
   "cell_type": "code",
   "execution_count": 49,
   "metadata": {},
   "outputs": [
    {
     "data": {
      "text/plain": [
       "(1, 2, 3, 4, 5, 6, 7, 8, 9, 10)"
      ]
     },
     "execution_count": 49,
     "metadata": {},
     "output_type": "execute_result"
    }
   ],
   "source": [
    "num = [1, 2, 3, 4, 5, 6, 7, 8, 9, 10]\n",
    "tuple(num)"
   ]
  },
  {
   "cell_type": "code",
   "execution_count": 50,
   "metadata": {},
   "outputs": [],
   "source": [
    "mixed = (1,2,3,4,5)"
   ]
  },
  {
   "cell_type": "code",
   "execution_count": 51,
   "metadata": {},
   "outputs": [
    {
     "name": "stdout",
     "output_type": "stream",
     "text": [
      "1\n",
      "2\n",
      "3\n",
      "4\n",
      "5\n"
     ]
    }
   ],
   "source": [
    "# For loop and tuple\n",
    "for i in mixed:\n",
    "    print(i)"
   ]
  },
  {
   "cell_type": "code",
   "execution_count": 52,
   "metadata": {},
   "outputs": [
    {
     "name": "stdout",
     "output_type": "stream",
     "text": [
      "<class 'int'>\n",
      "<class 'tuple'>\n"
     ]
    }
   ],
   "source": [
    "#tuple with one element\n",
    "nums = (1)\n",
    "print(type(nums)) # it is not a tuple\n",
    "print(type(mixed)) # it is a tuple"
   ]
  },
  {
   "cell_type": "code",
   "execution_count": 53,
   "metadata": {},
   "outputs": [
    {
     "name": "stdout",
     "output_type": "stream",
     "text": [
      "<class 'tuple'>\n"
     ]
    }
   ],
   "source": [
    "# if you want to create tuple with one element then put \"Comma\" after element\n",
    "nums = (1,)\n",
    "print(type(nums))"
   ]
  },
  {
   "cell_type": "code",
   "execution_count": 54,
   "metadata": {},
   "outputs": [
    {
     "name": "stdout",
     "output_type": "stream",
     "text": [
      "<class 'tuple'>\n"
     ]
    }
   ],
   "source": [
    "# tuple without parenthesis\n",
    "jobs = \"data science\", \"App developer\", \"Designer\"\n",
    "print(type(jobs))"
   ]
  },
  {
   "cell_type": "code",
   "execution_count": 55,
   "metadata": {},
   "outputs": [
    {
     "name": "stdout",
     "output_type": "stream",
     "text": [
      "data science App developer Designer\n"
     ]
    }
   ],
   "source": [
    "# tuple Unpacking\n",
    "## you have to take same variables as Values otherwise it will throw us error\n",
    "jobs = (\"data science\", \"App developer\", \"Designer\")\n",
    "job1, job2, job3 = (jobs)\n",
    "print(job1, job2, job3)"
   ]
  },
  {
   "cell_type": "code",
   "execution_count": 56,
   "metadata": {},
   "outputs": [
    {
     "data": {
      "text/plain": [
       "'list2'"
      ]
     },
     "execution_count": 56,
     "metadata": {},
     "output_type": "execute_result"
    }
   ],
   "source": [
    "#List inside tuples\n",
    "my_tuple = (\"item1\", [\"list1\", \"list2\"])\n",
    "my_tuple[1].pop()"
   ]
  },
  {
   "cell_type": "code",
   "execution_count": 57,
   "metadata": {},
   "outputs": [
    {
     "data": {
      "text/plain": [
       "('item1', ['list1', 'list3'])"
      ]
     },
     "execution_count": 57,
     "metadata": {},
     "output_type": "execute_result"
    }
   ],
   "source": [
    "my_tuple[1].append(\"list3\")\n",
    "my_tuple"
   ]
  },
  {
   "cell_type": "code",
   "execution_count": 58,
   "metadata": {},
   "outputs": [
    {
     "name": "stdout",
     "output_type": "stream",
     "text": [
      "1\n",
      "5\n"
     ]
    },
    {
     "data": {
      "text/plain": [
       "15"
      ]
     },
     "execution_count": 58,
     "metadata": {},
     "output_type": "execute_result"
    }
   ],
   "source": [
    "# min max sum len functios\n",
    "print(min(mixed))\n",
    "print(max(mixed))\n",
    "sum(mixed)"
   ]
  },
  {
   "cell_type": "markdown",
   "metadata": {},
   "source": [
    "## SETS\n",
    "A Set is an unordered collection data type that is iterable, mutable, and has no duplicate elements. Python's set class represents the mathematical notion of a set.This is based on a data structure known as a hash table"
   ]
  },
  {
   "cell_type": "code",
   "execution_count": 59,
   "metadata": {},
   "outputs": [
    {
     "name": "stdout",
     "output_type": "stream",
     "text": [
      "set()\n",
      "<class 'set'>\n"
     ]
    }
   ],
   "source": [
    "## Defining an empy set\n",
    "set_var = set()\n",
    "print(set_var)\n",
    "print(type(set_var))"
   ]
  },
  {
   "cell_type": "code",
   "execution_count": 60,
   "metadata": {},
   "outputs": [
    {
     "data": {
      "text/plain": [
       "{1, 2, 3, 4, 5}"
      ]
     },
     "execution_count": 60,
     "metadata": {},
     "output_type": "execute_result"
    }
   ],
   "source": [
    "set_var = {1,2,3,4,5,3}\n",
    "set_var"
   ]
  },
  {
   "cell_type": "code",
   "execution_count": 61,
   "metadata": {},
   "outputs": [
    {
     "name": "stdout",
     "output_type": "stream",
     "text": [
      "{'Avengers', 'Hitman', 'IronMan'}\n"
     ]
    },
    {
     "data": {
      "text/plain": [
       "set"
      ]
     },
     "execution_count": 61,
     "metadata": {},
     "output_type": "execute_result"
    }
   ],
   "source": [
    "set_var={\"Avengers\",\"IronMan\",'Hitman'}\n",
    "print(set_var)\n",
    "type(set_var)"
   ]
  },
  {
   "cell_type": "code",
   "execution_count": 62,
   "metadata": {},
   "outputs": [
    {
     "data": {
      "text/plain": [
       "{'Avengers', 'Hitman', 'Hulk', 'IronMan'}"
      ]
     },
     "execution_count": 62,
     "metadata": {},
     "output_type": "execute_result"
    }
   ],
   "source": [
    "## Inbuilt function in sets\n",
    "set_var.add(\"Hulk\")\n",
    "set_var"
   ]
  },
  {
   "cell_type": "code",
   "execution_count": 63,
   "metadata": {},
   "outputs": [],
   "source": [
    "set1={\"Avengers\",\"IronMan\",'Hitman'}\n",
    "set2={\"Avengers\",\"IronMan\",'Hitman','Hulk2'}"
   ]
  },
  {
   "cell_type": "code",
   "execution_count": 64,
   "metadata": {},
   "outputs": [
    {
     "data": {
      "text/plain": [
       "{'Avengers', 'Hitman', 'IronMan'}"
      ]
     },
     "execution_count": 64,
     "metadata": {},
     "output_type": "execute_result"
    }
   ],
   "source": [
    "set2.intersection(set1)"
   ]
  },
  {
   "cell_type": "code",
   "execution_count": 65,
   "metadata": {},
   "outputs": [
    {
     "data": {
      "text/plain": [
       "{'Avengers', 'Hitman', 'Hulk2', 'IronMan'}"
      ]
     },
     "execution_count": 65,
     "metadata": {},
     "output_type": "execute_result"
    }
   ],
   "source": [
    "set2"
   ]
  },
  {
   "cell_type": "code",
   "execution_count": 66,
   "metadata": {},
   "outputs": [
    {
     "data": {
      "text/plain": [
       "{'Avengers', 'Hitman', 'IronMan'}"
      ]
     },
     "execution_count": 66,
     "metadata": {},
     "output_type": "execute_result"
    }
   ],
   "source": [
    "set2.intersection_update(set1)\n",
    "set2"
   ]
  },
  {
   "cell_type": "code",
   "execution_count": 67,
   "metadata": {
    "scrolled": true
   },
   "outputs": [
    {
     "data": {
      "text/plain": [
       "set()"
      ]
     },
     "execution_count": 67,
     "metadata": {},
     "output_type": "execute_result"
    }
   ],
   "source": [
    "##Difference \n",
    "set2.difference(set1)"
   ]
  },
  {
   "cell_type": "markdown",
   "metadata": {},
   "source": [
    "## Dictionaries\n",
    "A dictionary is a collection which is unordered, changeable and indexed. In Python dictionaries are written with curly brackets, and they have keys and values."
   ]
  },
  {
   "cell_type": "code",
   "execution_count": 68,
   "metadata": {},
   "outputs": [],
   "source": [
    "dic={}"
   ]
  },
  {
   "cell_type": "code",
   "execution_count": 69,
   "metadata": {},
   "outputs": [
    {
     "data": {
      "text/plain": [
       "dict"
      ]
     },
     "execution_count": 69,
     "metadata": {},
     "output_type": "execute_result"
    }
   ],
   "source": [
    "type(dic)"
   ]
  },
  {
   "cell_type": "code",
   "execution_count": 70,
   "metadata": {},
   "outputs": [
    {
     "data": {
      "text/plain": [
       "dict"
      ]
     },
     "execution_count": 70,
     "metadata": {},
     "output_type": "execute_result"
    }
   ],
   "source": [
    "type(dict())"
   ]
  },
  {
   "cell_type": "code",
   "execution_count": 71,
   "metadata": {},
   "outputs": [
    {
     "data": {
      "text/plain": [
       "set"
      ]
     },
     "execution_count": 71,
     "metadata": {},
     "output_type": "execute_result"
    }
   ],
   "source": [
    "set_exm={1,2,3,4,5}\n",
    "type(set_exm)"
   ]
  },
  {
   "cell_type": "code",
   "execution_count": 72,
   "metadata": {},
   "outputs": [
    {
     "data": {
      "text/plain": [
       "{'Car1': 'Audi', 'Car2': 'BMW', 'Car3': 'Mercidies Benz'}"
      ]
     },
     "execution_count": 72,
     "metadata": {},
     "output_type": "execute_result"
    }
   ],
   "source": [
    "## Let create a dictionary\n",
    "my_dict={\"Car1\": \"Audi\", \"Car2\":\"BMW\",\"Car3\":\"Mercidies Benz\"}\n",
    "my_dict"
   ]
  },
  {
   "cell_type": "code",
   "execution_count": 73,
   "metadata": {},
   "outputs": [
    {
     "data": {
      "text/plain": [
       "'Audi'"
      ]
     },
     "execution_count": 73,
     "metadata": {},
     "output_type": "execute_result"
    }
   ],
   "source": [
    "#Access the item values based on keys\n",
    "my_dict['Car1']"
   ]
  },
  {
   "cell_type": "code",
   "execution_count": 74,
   "metadata": {},
   "outputs": [
    {
     "name": "stdout",
     "output_type": "stream",
     "text": [
      "Car1, Car2, Car3, "
     ]
    }
   ],
   "source": [
    "# We can even loop throught the dictionaries keys\n",
    "for x in my_dict:\n",
    "    print(x, end=\", \")"
   ]
  },
  {
   "cell_type": "code",
   "execution_count": 75,
   "metadata": {},
   "outputs": [
    {
     "name": "stdout",
     "output_type": "stream",
     "text": [
      "Audi, BMW, Mercidies Benz, "
     ]
    }
   ],
   "source": [
    "# We can even loop throught the dictionaries values\n",
    "for x in my_dict.values():\n",
    "    print(x, end=\", \")"
   ]
  },
  {
   "cell_type": "code",
   "execution_count": 76,
   "metadata": {},
   "outputs": [
    {
     "name": "stdout",
     "output_type": "stream",
     "text": [
      "('Car1', 'Audi')\n",
      "('Car2', 'BMW')\n",
      "('Car3', 'Mercidies Benz')\n"
     ]
    }
   ],
   "source": [
    "# We can also check both keys and values\n",
    "for x in my_dict.items():\n",
    "    print(x)"
   ]
  },
  {
   "cell_type": "code",
   "execution_count": 77,
   "metadata": {},
   "outputs": [
    {
     "data": {
      "text/plain": [
       "{'Car1': 'Audi', 'Car2': 'BMW', 'Car3': 'Mercidies Benz', 'car4': 'Audi 2.0'}"
      ]
     },
     "execution_count": 77,
     "metadata": {},
     "output_type": "execute_result"
    }
   ],
   "source": [
    "## Adding items in Dictionaries\n",
    "my_dict['car4']='Audi 2.0'\n",
    "my_dict"
   ]
  },
  {
   "cell_type": "code",
   "execution_count": 78,
   "metadata": {},
   "outputs": [
    {
     "data": {
      "text/plain": [
       "{'Car1': 'Maruti', 'Car2': 'BMW', 'Car3': 'Mercidies Benz', 'car4': 'Audi 2.0'}"
      ]
     },
     "execution_count": 78,
     "metadata": {},
     "output_type": "execute_result"
    }
   ],
   "source": [
    "#Adding and replacing new items to dictionary\n",
    "my_dict['Car1']='Maruti'\n",
    "my_dict"
   ]
  },
  {
   "cell_type": "code",
   "execution_count": 79,
   "metadata": {},
   "outputs": [],
   "source": [
    "# Nested Dictionary\n",
    "car1_model={'Mercedes':1960}\n",
    "car2_model={'Audi':1970}\n",
    "car3_model={'Ambassador':1980}\n",
    "car_type={'car1':car1_model,'car2':car2_model,'car3':car3_model}"
   ]
  },
  {
   "cell_type": "code",
   "execution_count": 80,
   "metadata": {},
   "outputs": [
    {
     "name": "stdout",
     "output_type": "stream",
     "text": [
      "{'car1': {'Mercedes': 1960}, 'car2': {'Audi': 1970}, 'car3': {'Ambassador': 1980}}\n"
     ]
    }
   ],
   "source": [
    "print(car_type)"
   ]
  },
  {
   "cell_type": "code",
   "execution_count": 81,
   "metadata": {},
   "outputs": [
    {
     "name": "stdout",
     "output_type": "stream",
     "text": [
      "{'Mercedes': 1960}\n",
      "1960\n"
     ]
    }
   ],
   "source": [
    "## Accessing the items in the dictionary\n",
    "print(car_type['car1'])\n",
    "print(car_type['car1']['Mercedes'])"
   ]
  },
  {
   "cell_type": "code",
   "execution_count": 82,
   "metadata": {},
   "outputs": [
    {
     "name": "stdout",
     "output_type": "stream",
     "text": [
      "{'name': 'sandip', 'age': 26}\n",
      "<class 'dict'>\n"
     ]
    }
   ],
   "source": [
    "#dictionaries #key value pair\n",
    "user = {'name' : 'sandip', 'age' : 26}\n",
    "print(user)\n",
    "print(type(user))"
   ]
  },
  {
   "cell_type": "code",
   "execution_count": 83,
   "metadata": {},
   "outputs": [
    {
     "name": "stdout",
     "output_type": "stream",
     "text": [
      "{'name': 'SANDY', 'age': 26}\n"
     ]
    }
   ],
   "source": [
    "user2 = dict(name = 'SANDY', age = 26)\n",
    "print(user2)"
   ]
  },
  {
   "cell_type": "code",
   "execution_count": 84,
   "metadata": {},
   "outputs": [
    {
     "name": "stdout",
     "output_type": "stream",
     "text": [
      "name is present in key section\n",
      "not present\n"
     ]
    }
   ],
   "source": [
    "user_info = {\n",
    "    'name' : 'sandy',\n",
    "    'age' : 24,\n",
    "    'fav_movies' : ['limitless', 'job', 'pango'],\n",
    "    'fav_tune' : ['fluet', 'romeo']\n",
    "}\n",
    "\n",
    "if 'name' in user_info:\n",
    "    print('name is present in key section')\n",
    "\n",
    "if 'sandip' in user_info.values():\n",
    "    print('sandip is present in value section')\n",
    "else:\n",
    "    print('not present')"
   ]
  },
  {
   "cell_type": "code",
   "execution_count": 85,
   "metadata": {},
   "outputs": [
    {
     "name": "stdout",
     "output_type": "stream",
     "text": [
      "dict_items([('name', 'sandip'), ('age', 24), ('fav_movies', ['limitless', 'job', 'pango']), ('fav_tune', ['fluet', 'romeo'])])\n",
      " \n",
      "<class 'dict_items'>\n"
     ]
    }
   ],
   "source": [
    "user_info = {\n",
    "    'name' : 'sandip',\n",
    "    'age' : 24,\n",
    "    'fav_movies' : ['limitless', 'job', 'pango'],\n",
    "    'fav_tune' : ['fluet', 'romeo'],\n",
    "}\n",
    "\n",
    "user_item = user_info.items()\n",
    "print(user_item)\n",
    "print(' ')\n",
    "print(type(user_item))"
   ]
  },
  {
   "cell_type": "code",
   "execution_count": 86,
   "metadata": {},
   "outputs": [
    {
     "name": "stdout",
     "output_type": "stream",
     "text": [
      "key is name and value is sandip\n",
      "key is age and value is 24\n",
      "key is fav_movies and value is ['limitless', 'job', 'pango']\n",
      "key is fav_tune and value is ['fluet', 'romeo']\n"
     ]
    }
   ],
   "source": [
    "user_info = {\n",
    "    'name' : 'sandip',\n",
    "    'age' : 24,\n",
    "    'fav_movies' : ['limitless', 'job', 'pango'],\n",
    "    'fav_tune' : ['fluet', 'romeo'],\n",
    "}\n",
    "user_items = user_info.items()\n",
    "\n",
    "for key, value in user_items:\n",
    "    print(f\"key is {key} and value is {value}\")"
   ]
  },
  {
   "cell_type": "code",
   "execution_count": 87,
   "metadata": {},
   "outputs": [
    {
     "name": "stdout",
     "output_type": "stream",
     "text": [
      "popped item is : pango\n",
      " \n",
      "{'name': 'sandip', 'age': 24, 'fav_movies': ['limitless', 'job', 'pango'], 'fav_tune': ['fluet', 'romeo']}\n"
     ]
    }
   ],
   "source": [
    "#add and delete data\n",
    "user_info = {\n",
    "    'name' : 'sandip',\n",
    "    'age' : 24,\n",
    "    'fav_movies' : ['limitless', 'job', 'pango'],\n",
    "    'fav_tune' : ['fluet', 'romeo']\n",
    "}\n",
    "\n",
    "popped = user_info['fav_movies'].pop()\n",
    "print(f'popped item is : {popped}')\n",
    "print(\" \")\n",
    "user_info['fav_movies'].append(popped)\n",
    "print(user_info)"
   ]
  },
  {
   "cell_type": "code",
   "execution_count": 88,
   "metadata": {},
   "outputs": [
    {
     "name": "stdout",
     "output_type": "stream",
     "text": [
      "{'name': 'sandip', 'age': 24, 'fav_movies': ['limitless', 'job', 'pango'], 'fav_tune': ['fluet', 'romeo'], 'fav_song': ['song1', 'song2']}\n",
      "popped item is ['fluet', 'romeo']\n",
      "{'name': 'sandip', 'age': 24, 'fav_movies': ['limitless', 'job', 'pango'], 'fav_song': ['song1', 'song2']}\n"
     ]
    }
   ],
   "source": [
    "#add and delete data\n",
    "user_info = {\n",
    "    'name' : 'sandip',\n",
    "    'age' : 24,\n",
    "    'fav_movies' : ['limitless', 'job', 'pango'],\n",
    "    'fav_tune' : ['fluet', 'romeo'],\n",
    "}\n",
    "\n",
    "#how to add data\n",
    "user_info['fav_song'] = ['song1', 'song2']\n",
    "print(user_info)\n",
    "\n",
    "#pop method\n",
    "popped_item = user_info.pop('fav_tune')\n",
    "print(f\"popped item is {popped_item}\")\n",
    "print(user_info)"
   ]
  },
  {
   "cell_type": "code",
   "execution_count": 89,
   "metadata": {},
   "outputs": [
    {
     "data": {
      "text/plain": [
       "{'name': 'sandip roy',\n",
       " 'age': 24,\n",
       " 'fav_movies': ['limitless', 'job', 'pango'],\n",
       " 'fav_tune': ['fluet', 'romeo'],\n",
       " 'state': 'west bengal',\n",
       " 'hobbies': ['cocking', 'video editing', 'traveling']}"
      ]
     },
     "execution_count": 89,
     "metadata": {},
     "output_type": "execute_result"
    }
   ],
   "source": [
    "user_info = {\n",
    "    'name' : 'sandip',\n",
    "    'age' : 24,\n",
    "    'fav_movies' : ['limitless', 'job', 'pango'],\n",
    "    'fav_tune' : ['fluet', 'romeo']\n",
    "}\n",
    "\n",
    "more_info = {'name' : 'sandip roy', 'state' : 'west bengal', 'hobbies' : ['cocking' , 'video editing', 'traveling']}\n",
    "user_info.update(more_info)\n",
    "user_info"
   ]
  },
  {
   "cell_type": "code",
   "execution_count": 92,
   "metadata": {},
   "outputs": [
    {
     "name": "stdout",
     "output_type": "stream",
     "text": [
      "{'S': 1, 'A': 1, 'N': 1, 'D': 1, 'I': 1, 'P': 2}\n"
     ]
    }
   ],
   "source": [
    "#Word counter with dictionary\n",
    "def word_counter(s):\n",
    "    count = {}\n",
    "    for char in s:\n",
    "        count[char] = s.count(char)\n",
    "    return count\n",
    "\n",
    "print(word_counter(\"SANDIPP\"))"
   ]
  },
  {
   "cell_type": "markdown",
   "metadata": {},
   "source": [
    "# Comprehensions"
   ]
  },
  {
   "cell_type": "code",
   "execution_count": 93,
   "metadata": {},
   "outputs": [
    {
     "name": "stdout",
     "output_type": "stream",
     "text": [
      "[1, 4, 9, 16, 25, 36, 49, 64, 81, 100]\n",
      "[1, 4, 9, 16, 25, 36, 49, 64, 81, 100]\n"
     ]
    }
   ],
   "source": [
    "#list comprehension\n",
    "squares = []\n",
    "for i in range(1,11):\n",
    "    squares.append(i**2)\n",
    "print(squares)\n",
    "\n",
    "square2 = [i**2 for i in range(1,11)]\n",
    "print(square2)"
   ]
  },
  {
   "cell_type": "code",
   "execution_count": 100,
   "metadata": {},
   "outputs": [
    {
     "data": {
      "text/plain": [
       "[25, 16, 9, 4, 1, 0, 1, 4, 9, 16, 25, 36, 49, 64, 81, 100]"
      ]
     },
     "execution_count": 100,
     "metadata": {},
     "output_type": "execute_result"
    }
   ],
   "source": [
    "[i**2 for i in range(-5,11)]"
   ]
  },
  {
   "cell_type": "code",
   "execution_count": 101,
   "metadata": {},
   "outputs": [
    {
     "name": "stdout",
     "output_type": "stream",
     "text": [
      "['2', '1', '4.0', '5.0', '3.0', '6']\n"
     ]
    }
   ],
   "source": [
    "# Number to string\n",
    "def num_to_string(l):\n",
    "    return [str(i) for i in l if (type(i) == int or type(i) == float)]\n",
    "\n",
    "print(num_to_string([2, 1, 'love', 4.0 ,5.0 ,3.0, 6, 'sandy']))"
   ]
  },
  {
   "cell_type": "code",
   "execution_count": 102,
   "metadata": {},
   "outputs": [
    {
     "name": "stdout",
     "output_type": "stream",
     "text": [
      "[1, -1, 3, -1, 5, -1, 7, -1, 9, -1]\n"
     ]
    }
   ],
   "source": [
    "nums =[1,2,3,4,5,6,7,8,9,10]\n",
    "new_list = [-1 if (i % 2 == 0) else i for i in nums]\n",
    "print(new_list)"
   ]
  },
  {
   "cell_type": "code",
   "execution_count": 103,
   "metadata": {},
   "outputs": [
    {
     "name": "stdout",
     "output_type": "stream",
     "text": [
      "square of 1 is : 1\n",
      "square of 2 is : 4\n",
      "square of 3 is : 9\n",
      "square of 4 is : 16\n",
      "square of 5 is : 25\n",
      "square of 6 is : 36\n",
      "square of 7 is : 49\n",
      "square of 8 is : 64\n",
      "square of 9 is : 81\n",
      "square of 10 is : 100\n"
     ]
    }
   ],
   "source": [
    "#dictionary comprehension\n",
    "square = {f\"square of {num} is\":num**2 for num in range(1,11)}\n",
    "for k,v in square.items():\n",
    "    print(f\"{k} : {v}\")"
   ]
  },
  {
   "cell_type": "markdown",
   "metadata": {},
   "source": [
    "## Iterators and generators\n",
    "*An iterator is an object that contains a countable number of values.*\n",
    "\n",
    "*An iterator is an object that can be iterated upon, meaning that you can traverse through all the values.*\n",
    "\n",
    "*Technically, in Python, an iterator is an object which implements the iterator protocol, which consist of the methods __iter__() and __next__().*\n",
    "\n",
    "##### **generators are iterators**"
   ]
  },
  {
   "cell_type": "code",
   "execution_count": 111,
   "metadata": {},
   "outputs": [
    {
     "name": "stdout",
     "output_type": "stream",
     "text": [
      "apple\n",
      "banana\n",
      "cherry\n"
     ]
    }
   ],
   "source": [
    "mytuple = (\"apple\", \"banana\", \"cherry\")\n",
    "myit = iter(mytuple)\n",
    "\n",
    "print(next(myit))\n",
    "print(next(myit))\n",
    "print(next(myit))"
   ]
  },
  {
   "cell_type": "code",
   "execution_count": 116,
   "metadata": {},
   "outputs": [
    {
     "name": "stdout",
     "output_type": "stream",
     "text": [
      "1\n",
      "4\n",
      "9\n",
      "16\n",
      "25\n"
     ]
    }
   ],
   "source": [
    "# Map is a iterator function\n",
    "numbers = [1,2,3,4,5,6]\n",
    "squares = map(lambda a:a**2, numbers)\n",
    "\n",
    "print(next(squares)) \n",
    "print(next(squares)) \n",
    "print(next(squares)) \n",
    "print(next(squares)) \n",
    "print(next(squares)) "
   ]
  },
  {
   "cell_type": "code",
   "execution_count": 117,
   "metadata": {},
   "outputs": [
    {
     "name": "stdout",
     "output_type": "stream",
     "text": [
      "1\n",
      "4\n",
      "9\n",
      "16\n",
      "25\n",
      "36\n"
     ]
    }
   ],
   "source": [
    "# you can loop through iterator\n",
    "for num in map(lambda a:a**2, numbers):\n",
    "    print(num)"
   ]
  },
  {
   "cell_type": "code",
   "execution_count": 125,
   "metadata": {},
   "outputs": [
    {
     "name": "stdout",
     "output_type": "stream",
     "text": [
      "<generator object <genexpr> at 0x000001FD1C04C2C8>\n"
     ]
    }
   ],
   "source": [
    "#generators\n",
    "square = (i**2 for i in range(1,11))\n",
    "print(square)"
   ]
  },
  {
   "cell_type": "code",
   "execution_count": 120,
   "metadata": {},
   "outputs": [
    {
     "name": "stdout",
     "output_type": "stream",
     "text": [
      "1\n",
      "4\n",
      "9\n",
      "16\n",
      "25\n",
      "36\n",
      "49\n",
      "64\n",
      "81\n",
      "100\n"
     ]
    }
   ],
   "source": [
    "for num in square:\n",
    "    print(num)"
   ]
  },
  {
   "cell_type": "markdown",
   "metadata": {},
   "source": [
    "## Lambda Function"
   ]
  },
  {
   "cell_type": "code",
   "execution_count": 104,
   "metadata": {},
   "outputs": [
    {
     "name": "stdout",
     "output_type": "stream",
     "text": [
      "5\n"
     ]
    }
   ],
   "source": [
    "#lambda\n",
    "add = lambda a,b : a+b\n",
    "print(add(2,3))"
   ]
  },
  {
   "cell_type": "code",
   "execution_count": 107,
   "metadata": {},
   "outputs": [
    {
     "name": "stdout",
     "output_type": "stream",
     "text": [
      "True\n"
     ]
    }
   ],
   "source": [
    "func = lambda s : True if len(s) > 5 else False\n",
    "print(func(\"Sandip\"))"
   ]
  },
  {
   "cell_type": "code",
   "execution_count": 110,
   "metadata": {},
   "outputs": [
    {
     "name": "stdout",
     "output_type": "stream",
     "text": [
      "False\n"
     ]
    }
   ],
   "source": [
    "func = lambda s : len(s) > 5 \n",
    "print(func(\"good\"))"
   ]
  }
 ],
 "metadata": {
  "kernelspec": {
   "display_name": "Python 3",
   "language": "python",
   "name": "python3"
  },
  "language_info": {
   "codemirror_mode": {
    "name": "ipython",
    "version": 3
   },
   "file_extension": ".py",
   "mimetype": "text/x-python",
   "name": "python",
   "nbconvert_exporter": "python",
   "pygments_lexer": "ipython3",
   "version": "3.7.4"
  }
 },
 "nbformat": 4,
 "nbformat_minor": 2
}
