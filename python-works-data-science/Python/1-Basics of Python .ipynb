{
 "cells": [
  {
   "cell_type": "markdown",
   "metadata": {},
   "source": [
    "# What is Python\n",
    "Python is a object-oriented, high-level programming language with dynamic semantics. Its high-level built in data structures, combined with dynamic typing and dynamic binding, make it very attractive for Rapid Application Development."
   ]
  },
  {
   "cell_type": "markdown",
   "metadata": {},
   "source": [
    "# Some of the use case of Python\n",
    "**Python in Real-World Scenarios**\n",
    "*is used in virtually every industry and scientific field that you can imagine, including:*\n",
    "\n",
    "* Data Science.\n",
    "* Machine Learning.\n",
    "* Web Development.\n",
    "* Computer Science Education.\n",
    "* Computer Vision and Image Processing.\n",
    "* Game Development.\n",
    "* Medicine and Pharmacology.\n",
    "* Biology and Bioinformatics.\n",
    "* Neuroscience and Psychology.\n",
    "* Astronomy.\n",
    "* Other areas such as robotics, autonomous vehicles, business, meteorology, and graphical user interface (GUI) development."
   ]
  },
  {
   "cell_type": "markdown",
   "metadata": {},
   "source": [
    "### <font color=\"green\">Data Science: Analysis and Visualization</font>\n",
    "<img src=\"https://www.freecodecamp.org/news/content/images/2020/08/image-25.png\" style=\"width:800px;height:500px;\">"
   ]
  },
  {
   "cell_type": "markdown",
   "metadata": {},
   "source": [
    "### <font color=\"green\">This is Growth projection of Python </font>\n",
    "In 2021, the Python programming language will celebrate its 30th anniversary. Completing three decades in the niche, Python gives most other programming languages a good thrashing, showing a 456% growth.\n",
    "\n",
    "<img src=\"https://149351115.v2.pressablecdn.com/wp-content/uploads/2017/09/projections-1-1024x878.png\"\n",
    "style=\"width:500px;height:400px;\">"
   ]
  },
  {
   "cell_type": "markdown",
   "metadata": {},
   "source": [
    "### <font color=\"green\">Industries that are driving the growth</font>\n",
    "As per another Stack Overflow trend, the industry with the highest amount of Python traffic (by a substantial margin) is academic world, comprised of schools and universities.\n",
    "\n",
    "<img src=\"https://peerbits-wpengine.netdna-ssl.com/wp-content/uploads/2018/02/Paython-by-industry.jpg\"\n",
    "style=\"width:500px;height:500px;\">"
   ]
  },
  {
   "cell_type": "code",
   "execution_count": 8,
   "metadata": {},
   "outputs": [
    {
     "name": "stdout",
     "output_type": "stream",
     "text": [
      "Hello World\n"
     ]
    }
   ],
   "source": [
    "##Let's start our first code\n",
    "print(\"Hello World\")"
   ]
  },
  {
   "cell_type": "code",
   "execution_count": 12,
   "metadata": {},
   "outputs": [
    {
     "name": "stdout",
     "output_type": "stream",
     "text": [
      "'hello'\n"
     ]
    }
   ],
   "source": [
    "##remember we can't use double quote inside double quote it will throw error\n",
    "#but we can use double quote inside single quote it will  not throw error\n",
    "print(\"'hello'\")"
   ]
  },
  {
   "cell_type": "code",
   "execution_count": 17,
   "metadata": {},
   "outputs": [
    {
     "name": "stdout",
     "output_type": "stream",
     "text": [
      "sandip roy\n"
     ]
    }
   ],
   "source": [
    "print('sandip roy')"
   ]
  },
  {
   "cell_type": "code",
   "execution_count": 24,
   "metadata": {},
   "outputs": [
    {
     "name": "stdout",
     "output_type": "stream",
     "text": [
      "sandip @ roy\n",
      "sandip \\\" roy\n"
     ]
    }
   ],
   "source": [
    "#Raw String\n",
    "print(r'sandip @ roy')\n",
    "print(r'sandip \\\" roy')"
   ]
  },
  {
   "cell_type": "code",
   "execution_count": 15,
   "metadata": {},
   "outputs": [
    {
     "name": "stdout",
     "output_type": "stream",
     "text": [
      "Hello \"World\" World\n"
     ]
    }
   ],
   "source": [
    "#Escape sequence\n",
    "print(\"Hello \\\"World\\\" World\")"
   ]
  },
  {
   "cell_type": "code",
   "execution_count": 16,
   "metadata": {},
   "outputs": [
    {
     "name": "stdout",
     "output_type": "stream",
     "text": [
      "\\\n"
     ]
    }
   ],
   "source": [
    "print('\\\\')"
   ]
  },
  {
   "cell_type": "code",
   "execution_count": 21,
   "metadata": {},
   "outputs": [
    {
     "name": "stdout",
     "output_type": "stream",
     "text": [
      "Print A \n",
      "Print B\n"
     ]
    }
   ],
   "source": [
    "#newline\n",
    "print('Print A \\nPrint B')"
   ]
  },
  {
   "cell_type": "code",
   "execution_count": 22,
   "metadata": {},
   "outputs": [
    {
     "name": "stdout",
     "output_type": "stream",
     "text": [
      "Name\tSandip\n"
     ]
    }
   ],
   "source": [
    "#Tab space\n",
    "print('Name\\tSandip')"
   ]
  },
  {
   "cell_type": "code",
   "execution_count": 23,
   "metadata": {},
   "outputs": [
    {
     "name": "stdout",
     "output_type": "stream",
     "text": [
      "Hell\blo\n"
     ]
    }
   ],
   "source": [
    "#backspace\n",
    "print(\"Hell\\blo\")"
   ]
  },
  {
   "cell_type": "markdown",
   "metadata": {},
   "source": [
    "### Let's do some Arithmetic Operations"
   ]
  },
  {
   "cell_type": "code",
   "execution_count": 34,
   "metadata": {},
   "outputs": [
    {
     "name": "stdout",
     "output_type": "stream",
     "text": [
      "28\n",
      "2.0\n",
      "2\n",
      "1.4142135623730951\n",
      "256\n",
      "1.4142\n",
      "1\n",
      "1\n",
      "1.0\n"
     ]
    }
   ],
   "source": [
    "print(1+3*9)\n",
    "print(4/2) #Floating point division \n",
    "print(4//2) #integer division\n",
    "print(2**0.5) #Exponents\n",
    "print(2**2**3)\n",
    "print(round(2**0.5,4))\n",
    "print(3%2) #reminder\n",
    "print(int(2/2))\n",
    "print(float(2//2))"
   ]
  },
  {
   "cell_type": "markdown",
   "metadata": {},
   "source": [
    "## Strings"
   ]
  },
  {
   "cell_type": "code",
   "execution_count": 42,
   "metadata": {},
   "outputs": [
    {
     "name": "stdout",
     "output_type": "stream",
     "text": [
      "Sandip Roy\n",
      "Sandip Roy26\n",
      "Sandip Roy26\n",
      "SandipSandipSandip\n"
     ]
    }
   ],
   "source": [
    "##String Concatenation\n",
    "firstname = 'Sandip'\n",
    "lastname = 'Roy'\n",
    "fullname = firstname +\" \"+ lastname\n",
    "print(fullname)\n",
    "print(fullname + str(26))\n",
    "print(fullname + \"26\")\n",
    "print(firstname * 3)"
   ]
  },
  {
   "cell_type": "markdown",
   "metadata": {},
   "source": [
    "## User Input"
   ]
  },
  {
   "cell_type": "code",
   "execution_count": 46,
   "metadata": {},
   "outputs": [
    {
     "name": "stdout",
     "output_type": "stream",
     "text": [
      "type your name: Sandip\n",
      "Hello Sandip\n"
     ]
    }
   ],
   "source": [
    "#Input function always takes input in strings\n",
    "name = input(\"type your name: \")\n",
    "print(\"Hello \" + name)"
   ]
  },
  {
   "cell_type": "code",
   "execution_count": 48,
   "metadata": {},
   "outputs": [
    {
     "name": "stdout",
     "output_type": "stream",
     "text": [
      "Enter first number: 23\n",
      "Enter second number: 6\n",
      "Sum of numbers is: 29\n"
     ]
    }
   ],
   "source": [
    "number_one = int(input(\"Enter first number: \"))\n",
    "number_two = int(input(\"Enter second number: \"))\n",
    "total = number_one + number_two\n",
    "print(\"Sum of numbers is: \" + str(total))"
   ]
  },
  {
   "cell_type": "code",
   "execution_count": 64,
   "metadata": {},
   "outputs": [
    {
     "name": "stdout",
     "output_type": "stream",
     "text": [
      "4 4.0 4\n"
     ]
    },
    {
     "data": {
      "text/plain": [
       "str"
      ]
     },
     "execution_count": 64,
     "metadata": {},
     "output_type": "execute_result"
    }
   ],
   "source": [
    "## Type Casting\n",
    "number1 = int(\"4\")\n",
    "number2 = float(\"4\")\n",
    "number3 = str(4)\n",
    "print(number1, number2, number3)\n",
    "type(number3)"
   ]
  },
  {
   "cell_type": "code",
   "execution_count": 59,
   "metadata": {},
   "outputs": [
    {
     "name": "stdout",
     "output_type": "stream",
     "text": [
      "8.0\n"
     ]
    }
   ],
   "source": [
    "#It will give us output in a float\n",
    "print(number1 + number2)"
   ]
  },
  {
   "cell_type": "code",
   "execution_count": 61,
   "metadata": {},
   "outputs": [
    {
     "name": "stdout",
     "output_type": "stream",
     "text": [
      "Hello sandy your age is 26\n"
     ]
    }
   ],
   "source": [
    "## We Cant add integer to string thats why we making age as string\n",
    "name, age = \"sandy\", \"26\"\n",
    "print(\"Hello \" + name + \" your age is \" + age)"
   ]
  },
  {
   "cell_type": "code",
   "execution_count": 63,
   "metadata": {},
   "outputs": [
    {
     "name": "stdout",
     "output_type": "stream",
     "text": [
      "3\n"
     ]
    }
   ],
   "source": [
    "#Variables\n",
    "x=y=z=1\n",
    "print(x+y+z)"
   ]
  },
  {
   "cell_type": "code",
   "execution_count": 75,
   "metadata": {},
   "outputs": [
    {
     "name": "stdout",
     "output_type": "stream",
     "text": [
      "Enter your Name and Age: Sandip 26\n",
      "Sandip 26\n"
     ]
    }
   ],
   "source": [
    "name, age = input(\"Enter your Name and Age: \").split()\n",
    "print(name , age)"
   ]
  },
  {
   "cell_type": "code",
   "execution_count": 74,
   "metadata": {},
   "outputs": [
    {
     "name": "stdout",
     "output_type": "stream",
     "text": [
      "Enter your Name and Age Separated by \"Comma\": SANDIP,26\n",
      "SANDIP 26\n"
     ]
    }
   ],
   "source": [
    "name, age = input(\"Enter your Name and Age Separated by \\\"Comma\\\": \").split(\",\")\n",
    "print(name , age)"
   ]
  },
  {
   "cell_type": "code",
   "execution_count": 70,
   "metadata": {},
   "outputs": [
    {
     "name": "stdout",
     "output_type": "stream",
     "text": [
      "hello Sandy your age is 26 \n"
     ]
    }
   ],
   "source": [
    "name, age = \"Sandy\", 26\n",
    "print(\"hello {} your age is {} \".format(name, age))"
   ]
  },
  {
   "cell_type": "code",
   "execution_count": 71,
   "metadata": {},
   "outputs": [
    {
     "name": "stdout",
     "output_type": "stream",
     "text": [
      "hello Sandip Roy your age is 26\n"
     ]
    }
   ],
   "source": [
    "name, age = \"Sandip Roy\", 26\n",
    "print(f\"Hello {name} your age is {age}\")"
   ]
  }
 ],
 "metadata": {
  "kernelspec": {
   "display_name": "Python 3",
   "language": "python",
   "name": "python3"
  },
  "language_info": {
   "codemirror_mode": {
    "name": "ipython",
    "version": 3
   },
   "file_extension": ".py",
   "mimetype": "text/x-python",
   "name": "python",
   "nbconvert_exporter": "python",
   "pygments_lexer": "ipython3",
   "version": "3.7.4"
  }
 },
 "nbformat": 4,
 "nbformat_minor": 2
}
