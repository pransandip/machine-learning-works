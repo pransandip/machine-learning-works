{
 "cells": [
  {
   "cell_type": "markdown",
   "metadata": {},
   "source": [
    "## Pre Advanced Concepts\n",
    "*We going to discuss here Some pre Advanced Concepts of Python and Some Build in data structures like:*\n",
    "* String Indexing \n",
    "* String Slicing\n",
    "* Step Argumen\n",
    "* function vs method\n",
    "* Strip method\n",
    "* replace method\n",
    "* Center method\n",
    "* Assignment Operators\n",
    "* if-else statement\n",
    "* if-elif-else\n",
    "* Pass statement\n",
    "* And, Or Operator\n",
    "* in keyword\n",
    "* Loops\n",
    "* Break and Continue keyword\n",
    "* Step Argument in range function\n",
    "* Function"
   ]
  },
  {
   "cell_type": "code",
   "execution_count": 1,
   "metadata": {},
   "outputs": [
    {
     "name": "stdout",
     "output_type": "stream",
     "text": [
      "g\n",
      "n\n",
      "h\n"
     ]
    }
   ],
   "source": [
    "## String Indexing\n",
    "language = \"english\"\n",
    "print(language[2])\n",
    "print(language[-6])\n",
    "print(language[-1])"
   ]
  },
  {
   "cell_type": "code",
   "execution_count": 2,
   "metadata": {},
   "outputs": [
    {
     "name": "stdout",
     "output_type": "stream",
     "text": [
      "pyt\n",
      "ython\n",
      "pyt\n",
      "ython\n"
     ]
    }
   ],
   "source": [
    "# slicing / selecting sub sequence\n",
    "#But remember here last Argument is Exclusive\n",
    "lang = \"python\"\n",
    "print(lang[0:3])\n",
    "print(lang[1:])\n",
    "print(lang[:3])\n",
    "print(lang[-5:])"
   ]
  },
  {
   "cell_type": "code",
   "execution_count": 3,
   "metadata": {},
   "outputs": [
    {
     "name": "stdout",
     "output_type": "stream",
     "text": [
      "and\n",
      "andi\n",
      "Sni\n",
      "Sni\n",
      "Sd\n",
      "pidnaS\n",
      "pda\n",
      "pidnaS\n"
     ]
    }
   ],
   "source": [
    "#step argument\n",
    "print(\"Sandip\"[1:4])\n",
    "print(\"Sandip\"[1:5])\n",
    "print(\"Sandip\"[0:5:2])\n",
    "print(\"Sandip\"[0::2])\n",
    "print(\"Sandip\"[::3])\n",
    "print(\"Sandip\"[-1::-1])\n",
    "print(\"Sandip\"[-1::-2])\n",
    "print(\"Sandip\"[::-1])"
   ]
  },
  {
   "cell_type": "code",
   "execution_count": 4,
   "metadata": {},
   "outputs": [
    {
     "name": "stdout",
     "output_type": "stream",
     "text": [
      "Enter your name to reverse: sandip\n",
      "reverse of your name is pidnas\n",
      "reverse of your name is pidnas\n"
     ]
    }
   ],
   "source": [
    "## Here are some exaples how you use step Arguments\n",
    "name = input(\"Enter your name to reverse: \")\n",
    "reverse = name[::-1]\n",
    "print(f\"reverse of your name is {reverse}\")\n",
    "print(f\"reverse of your name is {name[::-1]}\")"
   ]
  },
  {
   "cell_type": "code",
   "execution_count": 5,
   "metadata": {},
   "outputs": [
    {
     "name": "stdout",
     "output_type": "stream",
     "text": [
      "Enter your name to Reverse: sandip\n",
      "pidnas\n"
     ]
    }
   ],
   "source": [
    "name = input(\"Enter your name to Reverse: \")\n",
    "print(name[::-1])"
   ]
  },
  {
   "cell_type": "markdown",
   "metadata": {},
   "source": [
    "**Function**<br>\n",
    "\n",
    "Function is block of code that is also called by its name. (independent)<br>\n",
    "The function can have different parameters or may not have any at all.<br>\n",
    "If any data (parameters) are passed, they are passed explicitly.<br>\n",
    "It may or may not return any data.<br>\n",
    "Function does not deal with Class and its instance concept."
   ]
  },
  {
   "cell_type": "code",
   "execution_count": 6,
   "metadata": {},
   "outputs": [
    {
     "name": "stdout",
     "output_type": "stream",
     "text": [
      "10\n",
      "10\n"
     ]
    }
   ],
   "source": [
    "#len function\n",
    "#len function count spaces\n",
    "name = \"Sandip Roy\"\n",
    "print(len(name))\n",
    "length = len(name)\n",
    "print(length)"
   ]
  },
  {
   "cell_type": "markdown",
   "metadata": {},
   "source": [
    "**Python Method**<br>\n",
    "\n",
    "Method is called by its name, but it is associated to an object (dependent).<br>\n",
    "A method is implicitly passed the object on which it is invoked.<br>\n",
    "It may or may not return any data.<br>\n",
    "A method can operate on the data (instance variables) that is contained by the corresponding class.<br>"
   ]
  },
  {
   "cell_type": "code",
   "execution_count": 7,
   "metadata": {},
   "outputs": [
    {
     "name": "stdout",
     "output_type": "stream",
     "text": [
      "sandip roy\n",
      "SANDIP ROY\n",
      "Sandip Roy\n",
      "1\n"
     ]
    }
   ],
   "source": [
    "#method\n",
    "name = \"SaNdip ROy\"\n",
    "print(name.lower())\n",
    "print(name.upper())\n",
    "print(name.title())\n",
    "print(name.count(\"a\"))"
   ]
  },
  {
   "cell_type": "code",
   "execution_count": 8,
   "metadata": {},
   "outputs": [
    {
     "name": "stdout",
     "output_type": "stream",
     "text": [
      "  San  dip  ......\n",
      "San  dip  ......\n",
      "  San  dip......\n",
      "San  dip......\n",
      "Sandip\n"
     ]
    }
   ],
   "source": [
    "#Strip method\n",
    "name = \"  San  dip  \"\n",
    "dots = \"......\"\n",
    "print(name + dots)\n",
    "print(name.lstrip() + dots)\n",
    "print(name.rstrip() + dots)\n",
    "print(name.strip() + dots)\n",
    "print(name.replace(\" \", \"\"))"
   ]
  },
  {
   "cell_type": "code",
   "execution_count": 9,
   "metadata": {},
   "outputs": [
    {
     "name": "stdout",
     "output_type": "stream",
     "text": [
      "enter comma separated name and charecter: Sandip,  d\n",
      "length of your name is 6\n",
      "charecter count : 1\n"
     ]
    }
   ],
   "source": [
    "#Examples\n",
    "name , char = input(\"enter comma separated name and charecter: \").split(\",\")\n",
    "print(f\"length of your name is {len(name)}\")\n",
    "print(f\"charecter count : {name.strip().lower().count(char.strip().lower())}\")"
   ]
  },
  {
   "cell_type": "code",
   "execution_count": 10,
   "metadata": {},
   "outputs": [
    {
     "name": "stdout",
     "output_type": "stream",
     "text": [
      "she_is_a_beautiful_lady\n"
     ]
    }
   ],
   "source": [
    "#replace method\n",
    "string = \"she is a beautiful lady\"\n",
    "print(string.replace(\" \", \"_\"))"
   ]
  },
  {
   "cell_type": "code",
   "execution_count": 11,
   "metadata": {},
   "outputs": [
    {
     "name": "stdout",
     "output_type": "stream",
     "text": [
      "**sandip**\n"
     ]
    }
   ],
   "source": [
    "#center method\n",
    "name = \"sandip\"\n",
    "print(name.center(10,\"*\"))"
   ]
  },
  {
   "cell_type": "code",
   "execution_count": 12,
   "metadata": {},
   "outputs": [
    {
     "name": "stdout",
     "output_type": "stream",
     "text": [
      "Sandip\n",
      "52\n"
     ]
    }
   ],
   "source": [
    "##Strings are immutable\n",
    "#Assignment Operators\n",
    "name = \"Sand\"\n",
    "name +=\"ip\"\n",
    "print(name)\n",
    "age = 26\n",
    "age *=2\n",
    "print(age)"
   ]
  },
  {
   "cell_type": "markdown",
   "metadata": {},
   "source": [
    "## If-else statemen"
   ]
  },
  {
   "cell_type": "code",
   "execution_count": 14,
   "metadata": {},
   "outputs": [
    {
     "name": "stdout",
     "output_type": "stream",
     "text": [
      "enter your age: 20\n",
      "you can play you are above or equal to 14\n"
     ]
    }
   ],
   "source": [
    "#if and else statement\n",
    "age = input(\"enter your age: \")\n",
    "age = int(age)\n",
    "if age >= 14:\n",
    "    print(\"you can play you are above or equal to 14\")\n",
    "else:\n",
    "    print(\"sorry, you can't play\")"
   ]
  },
  {
   "cell_type": "code",
   "execution_count": 18,
   "metadata": {},
   "outputs": [],
   "source": [
    "#Pass statement\n",
    "age = 18\n",
    "if age >= 18:\n",
    "    pass"
   ]
  },
  {
   "cell_type": "code",
   "execution_count": 19,
   "metadata": {},
   "outputs": [
    {
     "name": "stdout",
     "output_type": "stream",
     "text": [
      "Enter your age: 3\n",
      "Ticket price : Free\n"
     ]
    }
   ],
   "source": [
    "#if elif else\n",
    "age = input(\"Enter your age: \")\n",
    "age = int(age)\n",
    "\n",
    "if age== 0 or age < 0 :\n",
    "    print(\"you can not watch\")\n",
    "elif 0<age<=3:\n",
    "    print(\"Ticket price : Free\")\n",
    "elif 3<age<=10:\n",
    "    print(\"Ticket price : 150\")\n",
    "elif 10<age<=60:\n",
    "    print(\"Ticket price : 250\")\n",
    "else:\n",
    "    print(\"Ticket price : 200\")"
   ]
  },
  {
   "cell_type": "code",
   "execution_count": 24,
   "metadata": {},
   "outputs": [],
   "source": [
    "#And, Or Operator\n",
    "name = \"Sandy\"\n",
    "age2 = 26\n",
    "if name == 'Sandy' and age2 == 27:\n",
    "    print('Condition False')"
   ]
  },
  {
   "cell_type": "code",
   "execution_count": 25,
   "metadata": {},
   "outputs": [
    {
     "name": "stdout",
     "output_type": "stream",
     "text": [
      "Condition True\n"
     ]
    }
   ],
   "source": [
    "name = \"Sandy\"\n",
    "age = 26\n",
    "if name == 'Sandy' or age == 27:\n",
    "    print('Condition True')"
   ]
  },
  {
   "cell_type": "code",
   "execution_count": 29,
   "metadata": {},
   "outputs": [
    {
     "name": "stdout",
     "output_type": "stream",
     "text": [
      "\"s\" present in name\n"
     ]
    }
   ],
   "source": [
    "#in keyword\n",
    "name = \"sandip\"\n",
    "if \"s\" in name:\n",
    "    print('\"s\" present in name')"
   ]
  },
  {
   "cell_type": "code",
   "execution_count": 33,
   "metadata": {},
   "outputs": [
    {
     "name": "stdout",
     "output_type": "stream",
     "text": [
      "String is not empty\n"
     ]
    }
   ],
   "source": [
    "name = \"sandip\"\n",
    "if name:\n",
    "    print(\"String is not empty\")\n",
    "else:\n",
    "    print(\"String is empty\")       "
   ]
  },
  {
   "cell_type": "markdown",
   "metadata": {},
   "source": [
    "## Loops"
   ]
  },
  {
   "cell_type": "code",
   "execution_count": 36,
   "metadata": {},
   "outputs": [
    {
     "name": "stdout",
     "output_type": "stream",
     "text": [
      "Hello World\n",
      "Hello World\n",
      "Hello World\n",
      "Hello World\n",
      "Hello World\n",
      "Hello World\n",
      "Hello World\n",
      "Hello World\n",
      "Hello World\n",
      "Hello World\n"
     ]
    }
   ],
   "source": [
    "#while loop\n",
    "i = 1\n",
    "while i <=10:\n",
    "    print(\"Hello World\")\n",
    "    i = i + 1"
   ]
  },
  {
   "cell_type": "code",
   "execution_count": 37,
   "metadata": {},
   "outputs": [
    {
     "name": "stdout",
     "output_type": "stream",
     "text": [
      "Enter a number: 5555\n",
      "20\n"
     ]
    }
   ],
   "source": [
    "number = input(\"Enter a number: \")\n",
    "total = 0\n",
    "i = 0\n",
    "\n",
    "while i < len(number):\n",
    "    total += int(number[i])\n",
    "    i += 1\n",
    "print(total)"
   ]
  },
  {
   "cell_type": "code",
   "execution_count": 41,
   "metadata": {},
   "outputs": [
    {
     "name": "stdout",
     "output_type": "stream",
     "text": [
      "please enter your name: Sandip Roy Roy r\n",
      "S : 1\n",
      "a : 1\n",
      "n : 1\n",
      "d : 1\n",
      "i : 1\n",
      "p : 1\n",
      "  : 3\n",
      "R : 2\n",
      "o : 2\n",
      "y : 2\n",
      "r : 1\n"
     ]
    }
   ],
   "source": [
    "#But in this program there is a problem it printing white spaces and separating small case and counting,\n",
    "#we need to fix that, later i'll show you how to fix this with the help of pass statement. \n",
    "name = input(\"please enter your name: \")\n",
    "temp_var = \"\"\n",
    "i = 0\n",
    "\n",
    "while i < len(name):\n",
    "    if name[i] not in temp_var:\n",
    "        temp_var += name[i]\n",
    "        print(f\"{name[i]} : {name.count(name[i])}\")\n",
    "    i += 1   "
   ]
  },
  {
   "cell_type": "code",
   "execution_count": 43,
   "metadata": {},
   "outputs": [
    {
     "name": "stdout",
     "output_type": "stream",
     "text": [
      "Hello World : 0\n",
      "Hello World : 1\n",
      "Hello World : 2\n",
      "Hello World : 3\n",
      "Hello World : 4\n",
      "Hello World : 5\n",
      "Hello World : 6\n",
      "Hello World : 7\n",
      "Hello World : 8\n",
      "Hello World : 9\n"
     ]
    }
   ],
   "source": [
    "for i in range(10):\n",
    "    print(f'Hello World : {i}')"
   ]
  },
  {
   "cell_type": "code",
   "execution_count": 44,
   "metadata": {},
   "outputs": [
    {
     "name": "stdout",
     "output_type": "stream",
     "text": [
      "Hello World\n",
      "Hello World\n",
      "Hello World\n",
      "Hello World\n",
      "Hello World\n",
      "Hello World\n",
      "Hello World\n",
      "Hello World\n",
      "Hello World\n",
      "Hello World\n"
     ]
    }
   ],
   "source": [
    "for i in range(1, 11):\n",
    "    print('Hello World')"
   ]
  },
  {
   "cell_type": "code",
   "execution_count": 52,
   "metadata": {},
   "outputs": [
    {
     "name": "stdout",
     "output_type": "stream",
     "text": [
      "Enter a number: 12345\n",
      "15\n"
     ]
    }
   ],
   "source": [
    "#calculate sum of digits\n",
    "#here we not change Srt to Int in input function if we do so than \"TypeError: object of type 'int' has no len()\"\n",
    "total = 0\n",
    "num = input(\"Enter a number: \") \n",
    "for i in range(0, len(num)):\n",
    "    total = total + int(num[i])\n",
    "print(total)"
   ]
  },
  {
   "cell_type": "code",
   "execution_count": 54,
   "metadata": {},
   "outputs": [
    {
     "name": "stdout",
     "output_type": "stream",
     "text": [
      "Enter your name: Sandip Roy\n",
      "S : 1\n",
      "a : 1\n",
      "n : 1\n",
      "d : 1\n",
      "i : 1\n",
      "p : 1\n",
      "  : 1\n",
      "R : 1\n",
      "o : 1\n",
      "y : 1\n"
     ]
    }
   ],
   "source": [
    "## char count example with for loop \n",
    "# still it printing white spaces and separating small case and counting,\n",
    "# later i'll show you how to fix this with the help of pass statement.\n",
    "name = input(\"Enter your name: \")\n",
    "temp = \"\"\n",
    "for i in range(len(name)):\n",
    "    if name[i] not in temp:\n",
    "        print(f\"{name[i]} : {name.count(name[i])}\")\n",
    "        temp += name[i]"
   ]
  },
  {
   "cell_type": "code",
   "execution_count": 55,
   "metadata": {},
   "outputs": [
    {
     "name": "stdout",
     "output_type": "stream",
     "text": [
      "guess a number between 1 to 100 : 68\n",
      "too high\n",
      "guess again :66\n",
      "too low\n",
      "guess again : 67\n",
      "you win, and you guessed this number in 3 time\n"
     ]
    }
   ],
   "source": [
    "#number guessing game with while loop\n",
    "winning_number = 67\n",
    "guess = 1\n",
    "number =int(input(\"guess a number between 1 to 100 : \"))\n",
    "game_over = False\n",
    "\n",
    "while not game_over:\n",
    "    if number == winning_number:\n",
    "        print(f\"you win, and you guessed this number in {guess} time\")\n",
    "        game_over = True\n",
    "    else:\n",
    "        if number < winning_number:\n",
    "            print(\"too low\")\n",
    "            guess += 1\n",
    "            number = int(input(\"guess again : \"))\n",
    "        else:\n",
    "            print(\"too high\")\n",
    "            guess += 1\n",
    "            number = int(input(\"guess again :\"))"
   ]
  },
  {
   "cell_type": "code",
   "execution_count": 56,
   "metadata": {},
   "outputs": [
    {
     "name": "stdout",
     "output_type": "stream",
     "text": [
      "guess a number between 1 to 100 : 67\n",
      "you win, and you guessed this number in 1 time\n"
     ]
    }
   ],
   "source": [
    "#number guessing game # DRY don't repeat yourself\n",
    "winning_number = 67\n",
    "guess = 1\n",
    "number =int(input(\"guess a number between 1 to 100 : \"))\n",
    "game_over = False\n",
    "\n",
    "while not game_over:\n",
    "    if number == winning_number:\n",
    "        print(f\"you win, and you guessed this number in {guess} time\")\n",
    "        game_over = True\n",
    "    else:\n",
    "        if number < winning_number:\n",
    "            print(\"too low\")\n",
    "        else:\n",
    "            print(\"too high\")\n",
    "   \n",
    "        guess += 1\n",
    "        number = int(input(\"guess again :\"))"
   ]
  },
  {
   "cell_type": "code",
   "execution_count": 57,
   "metadata": {},
   "outputs": [
    {
     "name": "stdout",
     "output_type": "stream",
     "text": [
      "guess a number between 1 to 100 : 55\n",
      "too high\n",
      "guess again :45\n",
      "too high\n",
      "guess again :33\n",
      "too high\n",
      "guess again :23\n",
      "too high\n",
      "guess again :16\n",
      "too low\n",
      "guess again :19\n",
      "too low\n",
      "guess again :20\n",
      "too low\n",
      "guess again :22\n",
      "too high\n",
      "guess again :21\n",
      "you win, and you guessed this number in 9 time\n"
     ]
    }
   ],
   "source": [
    "#number guessing game # DRY don't repeat yourself # random number\n",
    "import random\n",
    "winning_number = random.randint(1,100)\n",
    "guess = 1\n",
    "number =int(input(\"guess a number between 1 to 100 : \"))\n",
    "\n",
    "while True:\n",
    "    if number == winning_number:\n",
    "        print(f\"you win, and you guessed this number in {guess} time\")\n",
    "        break\n",
    "    else:\n",
    "        if number < winning_number:\n",
    "            print(\"too low\")\n",
    "        else:\n",
    "            print(\"too high\")\n",
    "   \n",
    "        guess += 1\n",
    "        number = int(input(\"guess again :\"))"
   ]
  },
  {
   "cell_type": "code",
   "execution_count": 61,
   "metadata": {},
   "outputs": [
    {
     "name": "stdout",
     "output_type": "stream",
     "text": [
      "rohit"
     ]
    }
   ],
   "source": [
    "## end: string appended after the last value, default a newline. end ='\\n'\n",
    "name = \"rohit\"\n",
    "for i in range(len(name)):\n",
    "    print(name[i], end = \"\")"
   ]
  },
  {
   "cell_type": "code",
   "execution_count": 59,
   "metadata": {},
   "outputs": [
    {
     "name": "stdout",
     "output_type": "stream",
     "text": [
      "s a n d y "
     ]
    }
   ],
   "source": [
    "for i in \"sandy\":\n",
    "    print(i, end = \" \")"
   ]
  },
  {
   "cell_type": "code",
   "execution_count": 60,
   "metadata": {},
   "outputs": [
    {
     "name": "stdout",
     "output_type": "stream",
     "text": [
      "1 2 3 4 5 6 7 8 9 10 "
     ]
    }
   ],
   "source": [
    "for i in range(1,11):\n",
    "    print(i, end = \" \")"
   ]
  },
  {
   "cell_type": "code",
   "execution_count": 75,
   "metadata": {},
   "outputs": [
    {
     "name": "stdout",
     "output_type": "stream",
     "text": [
      "Hello World, Hello World, Hello World, Hello World, Hello World, "
     ]
    }
   ],
   "source": [
    "#Break and Continue keyword\n",
    "for i in range(10):\n",
    "    if i == 5:\n",
    "        break\n",
    "    print('Hello World', end=\", \")   "
   ]
  },
  {
   "cell_type": "code",
   "execution_count": 67,
   "metadata": {},
   "outputs": [
    {
     "name": "stdout",
     "output_type": "stream",
     "text": [
      "Hello World 1\n",
      "Hello World 2\n",
      "Hello World 3\n",
      "Hello World 4\n",
      "Hello World 6\n",
      "Hello World 7\n",
      "Hello World 8\n",
      "Hello World 9\n",
      "Hello World 10\n"
     ]
    }
   ],
   "source": [
    "#Continue\n",
    "# print 1 to 10, but not 5\n",
    "for i in range(1,11):\n",
    "    if i == 5:\n",
    "        continue\n",
    "    print(f'Hello World {i}') "
   ]
  },
  {
   "cell_type": "code",
   "execution_count": 68,
   "metadata": {},
   "outputs": [
    {
     "name": "stdout",
     "output_type": "stream",
     "text": [
      "1 3 5 7 9 "
     ]
    }
   ],
   "source": [
    "#Step Argument in range function\n",
    "#print odd numbers with for loop\n",
    "for i in range(1,11,2):\n",
    "    print(i, end=\" \")"
   ]
  },
  {
   "cell_type": "code",
   "execution_count": 72,
   "metadata": {},
   "outputs": [
    {
     "name": "stdout",
     "output_type": "stream",
     "text": [
      "0 2 4 6 8 10 "
     ]
    }
   ],
   "source": [
    "#print even numbers with for loop\n",
    "for i in range(0,11,2):\n",
    "    print(i, end=\" \")"
   ]
  },
  {
   "cell_type": "code",
   "execution_count": 79,
   "metadata": {},
   "outputs": [
    {
     "name": "stdout",
     "output_type": "stream",
     "text": [
      "10, 9, 8, 7, 6, 5, 4, 3, 2, 1, "
     ]
    }
   ],
   "source": [
    "for i in range(10,0,-1):\n",
    "    print(i, end=\", \")"
   ]
  },
  {
   "cell_type": "code",
   "execution_count": 81,
   "metadata": {},
   "outputs": [
    {
     "name": "stdout",
     "output_type": "stream",
     "text": [
      "10, 9, 8, 7, 6, 5, 4, 3, 2, 1, 0, "
     ]
    }
   ],
   "source": [
    "# if you want to print till zero\n",
    "for i in range(10,-1,-1):\n",
    "    print(i, end=\", \")"
   ]
  },
  {
   "cell_type": "code",
   "execution_count": 83,
   "metadata": {},
   "outputs": [
    {
     "name": "stdout",
     "output_type": "stream",
     "text": [
      "1, 0, -1, -2, -3, -4, -5, -6, -7, -8, -9, -10, "
     ]
    }
   ],
   "source": [
    "# it is very interesting if you plot this numbers in number line \n",
    "# it will show how it started from +ve 1 and ending with -ve 10.\n",
    "for i in range(1,-11,-1):\n",
    "    print(i, end=\", \")"
   ]
  },
  {
   "cell_type": "markdown",
   "metadata": {},
   "source": [
    "## Function\n",
    "A function is a block of organized, reusable code that is used to perform some Operations.... As you already know, Python gives you many built-in functions \n",
    "like <font color=red>*print()*</font> etc. but you can also create your own functions."
   ]
  },
  {
   "cell_type": "code",
   "execution_count": 84,
   "metadata": {},
   "outputs": [
    {
     "name": "stdout",
     "output_type": "stream",
     "text": [
      "pidnas\n"
     ]
    }
   ],
   "source": [
    "#function\n",
    "def rvs(name):\n",
    "    return name[::-1]\n",
    "\n",
    "print(rvs(\"sandip\"))"
   ]
  },
  {
   "cell_type": "code",
   "execution_count": 87,
   "metadata": {},
   "outputs": [
    {
     "name": "stdout",
     "output_type": "stream",
     "text": [
      "True\n",
      "False\n"
     ]
    }
   ],
   "source": [
    "def is_palindrom(word):\n",
    "    return word == word[::-1]\n",
    "\n",
    "print(is_palindrom(\"naman\"))\n",
    "print(is_palindrom(\"sandy\"))"
   ]
  },
  {
   "cell_type": "code",
   "execution_count": 106,
   "metadata": {},
   "outputs": [
    {
     "name": "stdout",
     "output_type": "stream",
     "text": [
      "Enter Your Name: Sandip Roy Roy r\n",
      "S : 1\n",
      "a : 1\n",
      "n : 1\n",
      "d : 1\n",
      "i : 1\n",
      "p : 1\n",
      "R : 3\n",
      "o : 2\n",
      "y : 2\n"
     ]
    }
   ],
   "source": [
    "# Success\n",
    "name = input(\"Enter Your Name: \")\n",
    "l_name = name.lower()\n",
    "temp = \"\"\n",
    "for i in range(len(l_name)):\n",
    "        if l_name[i] not in temp:\n",
    "            if l_name[i] == \" \":\n",
    "                pass\n",
    "            else:\n",
    "                print(f\"{name[i]} : {l_name.count(l_name[i])}\")\n",
    "                temp += l_name[i]"
   ]
  }
 ],
 "metadata": {
  "kernelspec": {
   "display_name": "Python 3",
   "language": "python",
   "name": "python3"
  },
  "language_info": {
   "codemirror_mode": {
    "name": "ipython",
    "version": 3
   },
   "file_extension": ".py",
   "mimetype": "text/x-python",
   "name": "python",
   "nbconvert_exporter": "python",
   "pygments_lexer": "ipython3",
   "version": "3.7.4"
  }
 },
 "nbformat": 4,
 "nbformat_minor": 2
}
